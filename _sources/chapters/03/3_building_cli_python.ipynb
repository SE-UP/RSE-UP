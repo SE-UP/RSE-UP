{
 "cells": [
  {
   "cell_type": "markdown",
   "metadata": {},
   "source": [
    "# Building Command-Line Tools with Python \n",
    "\n",
    "> Multiple exclamation marks are a sure sign of a diseased mind.\n",
    ">\n",
    "> --- Terry Pratchett\n",
    "\n",
    "The [Jupyter Notebook](https://jupyter.org/), PyCharm, and other graphical interfaces\n",
    "are great for prototyping code and exploring data, but eventually we may need to apply our code to thousands of data files,\n",
    "run it with many different parameters, or combine it with other programs as part of a data analysis pipeline.\n",
    "The easiest way to do this is often to turn our code into a standalone program that can be run in the Unix shell\n",
    "just like other command-line tools {cite:p}`Tasc2017`.\n",
    "\n",
    "In this chapter we will develop some **command-line Python program** that handle input and output in the same way as other shell commands,\n",
    "can be controlled by several option flags, and provide useful information when things go wrong.\n",
    "The result will have more scaffolding than useful application code, but that scaffolding stays more or less the same as programs get larger.\n",
    "\n",
    "After the previous chapters, our Zipf's Law project should have the following files and directories:\n"
   ]
  },
  {
   "cell_type": "markdown",
   "metadata": {},
   "source": [
    "```text\n",
    "zipf/\n",
    "├── bin\n",
    "│   └── book_summary.sh\n",
    "└── data\n",
    "    ├── README.md\n",
    "    ├── dracula.txt\n",
    "    ├── frankenstein.txt\n",
    "    ├── jane_eyre.txt\n",
    "    ├── moby_dick.txt\n",
    "    ├── sense_and_sensibility.txt\n",
    "    ├── sherlock_holmes.txt\n",
    "    └── time_machine.txt\n",
    "```"
   ]
  },
  {
   "cell_type": "markdown",
   "metadata": {},
   "source": [
    "> **Python Style**\n",
    ">\n",
    "> When writing Python code there are many style choices to make.\n",
    "> How many spaces should I put between functions?\n",
    "> Should I use capital letters in variable names?\n",
    "> How should I order all the different elements of a Python script?\n",
    "> Fortunately,\n",
    "> there are well established conventions and guidelines\n",
    "> for good Python style.\n",
    "> We follow those guidelines throughout this book\n",
    "> and discuss them in detail in Appendix **TODO** \\@ref(style)."
   ]
  },
  {
   "cell_type": "markdown",
   "metadata": {},
   "source": [
    "## Programs and Modules \n",
    "\n",
    "To create a Python program that can run from the command line,\\index{Python!program vs.\\ module}\n",
    "the first thing we do is to add the following to the bottom of the file:"
   ]
  },
  {
   "cell_type": "code",
   "execution_count": null,
   "metadata": {},
   "outputs": [],
   "source": [
    "if __name__ == '__main__':"
   ]
  },
  {
   "cell_type": "markdown",
   "metadata": {},
   "source": [
    "This strange-looking check tells us whether the file is running as a standalone program or whether it is being imported as a module by some other program.\n",
    "When we import a Python file as a module in another program, the `__name__` variable is automatically set to the name of the file.\\index{\\_\\_name\\_\\_ variable (in Python)}\\index{Python!\\_\\_name\\_\\_ variable}\n",
    "When we run a Python file as a standalone program, on the other hand, `__name__` is always set to the special string `\"__main__\"`.\n",
    "To illustrate this, let's consider a script named `print_name.py` that prints the value of the `__name__` variable:"
   ]
  },
  {
   "cell_type": "code",
   "execution_count": 1,
   "metadata": {},
   "outputs": [
    {
     "name": "stdout",
     "output_type": "stream",
     "text": [
      "__main__\n"
     ]
    }
   ],
   "source": [
    "print(__name__)"
   ]
  },
  {
   "cell_type": "markdown",
   "metadata": {},
   "source": [
    "When we run this file directly, it will print `__main__`: \n",
    "\n",
    "```bash\n",
    "$ python print_name.py\n",
    "```\n",
    "\n",
    "```text\n",
    "__main__\n",
    "```\n",
    "\n",
    "But if we import `print_name.py` from another file or from the Python interpreter, it will print the name of the file, i.e., `print_name`.\n",
    "\n",
    "```bash\n",
    "$ python\n",
    "```\n",
    "\n",
    "```text\n",
    "Python 3.7.6 (default, Jan  8 2020, 13:42:34) \n",
    "[Clang 4.0.1 (tags/RELEASE_401/final)] :: \n",
    "Anaconda, Inc. on darwin\n",
    "Type \"help\", \"copyright\", \"credits\" or \"license\"\n",
    "for more information.\n",
    "```\n",
    "\n",
    "```python\n",
    ">>> import print_name\n",
    "```\n",
    "```text\n",
    "print_name\n",
    "```\n",
    "\n",
    "Checking the value of the variable `__name__` therefore tells us whether our file is the top-level program or not. If it is, we can handle command-line options, print help, or whatever else is appropriate;\n",
    "if it isn't, we should assume that some other code is doing this. \n",
    "\n",
    "We could put the main program code directly under the `if` statement like this:\n",
    "\n",
    "```python\n",
    "if __name__ == \"__main__\":\n",
    "    # code goes here\n",
    "```\n",
    "\n",
    "but that is considered poor practice, since it makes testing harder (Chapter **TODO** ref(testing)). Instead, we put the high-level logic in a function, then call that function if our file is being run directly:\n",
    "\n"
   ]
  },
  {
   "cell_type": "markdown",
   "metadata": {},
   "source": []
  },
  {
   "cell_type": "code",
   "execution_count": 9,
   "metadata": {},
   "outputs": [
    {
     "name": "stdout",
     "output_type": "stream",
     "text": [
      "Hello World!\n"
     ]
    }
   ],
   "source": [
    "def main():\n",
    "    print('Hello World!')\n",
    "\n",
    "if __name__ == '__main__':\n",
    "    main()"
   ]
  },
  {
   "cell_type": "markdown",
   "metadata": {},
   "source": [
    "This top-level function is usually called `main`, but we can use whatever name we want."
   ]
  },
  {
   "cell_type": "markdown",
   "metadata": {},
   "source": [
    "## Handling Command-Line Options \n",
    "\n",
    "The main function in a program usually starts by parsing any options the user gave on the command line.\n",
    "The most commonly used library for doing this in Python is [`argparse`](https://docs.python.org/3/library/argparse.html), which can handle options with or without arguments, convert arguments from strings to numbers or other types, display help, and many other things.\n",
    "\n",
    "The simplest way to explain how `argparse` works is by example. \n",
    "\n",
    "Let's create a short Python program called `script_template.py`:\n"
   ]
  },
  {
   "cell_type": "code",
   "execution_count": 16,
   "metadata": {},
   "outputs": [
    {
     "name": "stdout",
     "output_type": "stream",
     "text": [
      "Input file: input.txt\n",
      "Output file: output.txt\n"
     ]
    }
   ],
   "source": [
    "import argparse\n",
    "\n",
    "\n",
    "def main(args):\n",
    "    print('Input file:', args.infile)\n",
    "    print('Output file:', args.outfile)\n",
    "\n",
    "\n",
    "if __name__ == '__main__':\n",
    "    USAGE = 'Brief description of what the script does.'\n",
    "    parser = argparse.ArgumentParser(description=USAGE)\n",
    "    parser.add_argument('infile', type=str,\n",
    "                        help='Input file name')\n",
    "    parser.add_argument('outfile', type=str,\n",
    "                        help='Output file name')\n",
    "    \n",
    "    # since jupyter notebook does not have a command line interface we need to simulate it. \n",
    "    # args = parser.parse_args()  # use this when running from command line \n",
    "    args = argparse.Namespace(infile='input.txt', outfile='output.txt') # use this when running from jupyter notebook\n",
    "    main(args)"
   ]
  },
  {
   "cell_type": "markdown",
   "metadata": {},
   "source": [
    "**NOTE** not if run from jupyternotebook\n",
    "> **Empty Lines, Again**\n",
    "> \n",
    "> As we discussed in the last chapter for shell scripts,\n",
    "> remember to end your Python scripts in a newline character\n",
    "> (which we view as an empty line)."
   ]
  },
  {
   "cell_type": "markdown",
   "metadata": {},
   "source": [
    "\n",
    "If `script_template.py` is run as a standalone program at the command line, then `__name__ == '__main__'` is true, so the program uses `argparse` to create an argument parser. \n",
    "It then specifies that it expects two command-line arguments: an input filename (`infile`) and an output filename (`outfile`).\n",
    "The program uses `parser.parse_args()` to parse the actual command-line arguments given by the user and stores the result in a variable called `args`,\n",
    "which it passes to `main`. That function can then get the values using the names specified in the `parser.add_argument` calls.\n",
    "\n",
    "> **Specifying Types**\n",
    ">\n",
    "> We have passed `type=str` to `add_argument` to tell `argparse` that\n",
    "> we want `infile` and `outfile` to be treated as strings.\n",
    "> `str` is not quoted because it is not a string itself:\n",
    "> instead,\n",
    "> it is the built-in Python function that converts things to strings.\n",
    "> As we will see below,\n",
    "> we can pass in other functions like `int`\n",
    "> if we want arguments converted to numbers.\n",
    "\n",
    "If we run `script_template.py` at the command line, the output shows us that `argparse` has successfully handled the arguments:\n"
   ]
  },
  {
   "cell_type": "code",
   "execution_count": 19,
   "metadata": {},
   "outputs": [
    {
     "name": "stdout",
     "output_type": "stream",
     "text": [
      "Input file: input.txt\n",
      "Output file: output.txt\n"
     ]
    }
   ],
   "source": [
    "%%bash\n",
    "cd ../../exercises/zipf/bin\n",
    "# If running from a jupyternotebook\n",
    "python script_template_nb.py\n",
    "# if running from command line\n",
    "# python script_template.py in.csv out.png"
   ]
  },
  {
   "cell_type": "markdown",
   "metadata": {},
   "source": [
    "\n",
    "It also displays an error message if we give the program invalid arguments:\n",
    "\n",
    "```bash\n",
    "$ python script_template.py in.csv\n",
    "```\n",
    "\n",
    "```text\n",
    "usage: script_template.py [-h] infile outfile\n",
    "script_template.py: error: the following arguments are\n",
    "  required: outfile\n",
    "```\n",
    "\n",
    "Finally, it automatically generates help information (which we can get using the `-h` option):\n"
   ]
  },
  {
   "cell_type": "code",
   "execution_count": 22,
   "metadata": {},
   "outputs": [
    {
     "name": "stdout",
     "output_type": "stream",
     "text": [
      "usage: script_template.py [-h] infile outfile\n",
      "\n",
      "One-line description of what the script does.\n",
      "\n",
      "positional arguments:\n",
      "  infile      Input file name\n",
      "  outfile     Output file name\n",
      "\n",
      "options:\n",
      "  -h, --help  show this help message and exit\n"
     ]
    }
   ],
   "source": [
    "%%bash\n",
    "cd ../../exercises/zipf/bin\n",
    "python script_template.py -h \n",
    "\n"
   ]
  },
  {
   "cell_type": "markdown",
   "metadata": {},
   "source": [
    "## Documentation \n",
    "\n",
    "Our program template is a good starting point, but we improve it right away by adding a bit of documentation.\n",
    "To demonstrate, let's write a function that doubles a number:\n",
    "\n"
   ]
  },
  {
   "cell_type": "code",
   "execution_count": 23,
   "metadata": {},
   "outputs": [],
   "source": [
    "def double(num):\n",
    "    'Double the input.'\n",
    "    return 2 * num"
   ]
  },
  {
   "cell_type": "markdown",
   "metadata": {},
   "source": [
    "The first line of this function is a string that isn't assigned to a variable.\n",
    "Such a string is called a documentation string, or **docstring** for short. If we call our function it does what we expect:"
   ]
  },
  {
   "cell_type": "code",
   "execution_count": 24,
   "metadata": {},
   "outputs": [
    {
     "data": {
      "text/plain": [
       "6"
      ]
     },
     "execution_count": 24,
     "metadata": {},
     "output_type": "execute_result"
    }
   ],
   "source": [
    "double(3)\n"
   ]
  },
  {
   "cell_type": "markdown",
   "metadata": {},
   "source": [
    "However, we can also ask for the function's documentation, which is stored in `double.__doc__`:"
   ]
  },
  {
   "cell_type": "code",
   "execution_count": 25,
   "metadata": {},
   "outputs": [
    {
     "data": {
      "text/plain": [
       "'Double the input.'"
      ]
     },
     "execution_count": 25,
     "metadata": {},
     "output_type": "execute_result"
    }
   ],
   "source": [
    "double.__doc__"
   ]
  },
  {
   "cell_type": "markdown",
   "metadata": {},
   "source": [
    "Python creates the variable `__doc__` automatically for every function, just as it creates the variable `__name__` for every file.\n",
    "If we don't write a docstring for a function, `__doc__`'s value is an empty string. \n",
    "We can put whatever text we want into a function's docstring, but it is usually used to provide online documentation.\n",
    "\n",
    "We can also put a docstring at the start of a file, in which case it is assigned to a variable called `__doc__`\n",
    "that is visible inside the file. If we add documentation to our template, it becomes:"
   ]
  },
  {
   "cell_type": "code",
   "execution_count": 26,
   "metadata": {},
   "outputs": [
    {
     "name": "stdout",
     "output_type": "stream",
     "text": [
      "Input file: input.txt\n",
      "Output file: output.txt\n"
     ]
    }
   ],
   "source": [
    "\"\"\"Brief description of what the script does.\"\"\"\n",
    "\n",
    "import argparse\n",
    "\n",
    "\n",
    "def main(args):\n",
    "    \"\"\"Run the program.\"\"\"\n",
    "    print('Input file:', args.infile)\n",
    "    print('Output file:', args.outfile)\n",
    "\n",
    "\n",
    "if __name__ == '__main__':\n",
    "    parser = argparse.ArgumentParser(description=__doc__)\n",
    "    parser.add_argument('infile', type=str,\n",
    "                        help='Input file name')\n",
    "    parser.add_argument('outfile', type=str,\n",
    "                        help='Output file name')\n",
    "    # since jupyter notebook does not have a command line interface we need to simulate it. \n",
    "    # args = parser.parse_args()  # use this when running from command line \n",
    "    args = argparse.Namespace(infile='input.txt', outfile='output.txt') # use this when running from jupyter notebook\n",
    "    main(args)"
   ]
  },
  {
   "cell_type": "markdown",
   "metadata": {},
   "source": [
    "Note that docstrings are usually written using triple-quoted strings, since these can span multiple lines.\n",
    "Note also how we pass `description=__doc__` to `argparse.ArgumentParser`. This saves us from typing the same information twice, but more importantly ensures that\n",
    "the help message provided in response to the `-h` option will be the same as the interactive help. \n",
    "\n",
    "Let's try this out in an interactive Python session. (Remember, do not type the `>>>` prompt: Python provides this for us.)"
   ]
  },
  {
   "cell_type": "markdown",
   "metadata": {},
   "source": [
    "***NOTE*** Python Prompt can not be used in Jupyter Notebook that is why, the example is non interactive!\n",
    "```bash\n",
    "$ python\n",
    "```\n",
    "```text\n",
    "Python 3.7.6 (default, Jan  8 2020, 13:42:34) \n",
    "[Clang 4.0.1 (tags/RELEASE_401/final)] :: \n",
    "Anaconda, Inc. on darwin\n",
    "Type \"help\", \"copyright\", \"credits\" or \"license\"\n",
    "for more information.\n",
    "```\n",
    "```python\n",
    ">>> import script_template\n",
    ">>> script_template.__doc__\n",
    "```\n",
    "```text\n",
    "'Brief description of what the script does.'\n",
    "```\n",
    "```python\n",
    ">>> help(script_template)\n",
    "```\n",
    "```text\n",
    "Help on module script_template:\n",
    "\n",
    "NAME\n",
    "    script_template - Brief description of what the script does.\n",
    "\n",
    "FUNCTIONS\n",
    "    main(args)\n",
    "        Run the program.\n",
    "\n",
    "FILE\n",
    "    /Users/amira/script_template.py\n",
    "```"
   ]
  },
  {
   "cell_type": "markdown",
   "metadata": {},
   "source": [
    "As this example shows, if we ask for help on the module, Python formats and displays all of the docstrings for everything in the file.\n",
    "We talk more about what to put in a docstring in Appendix **TODO** ref(documentation).\n"
   ]
  },
  {
   "cell_type": "markdown",
   "metadata": {},
   "source": [
    "## Counting Words\n",
    "\n",
    "Now that we have a template for command-line Python programs, we can use it to check Zipf's Law for our collection of classic novels.\n",
    "We start by moving the template into the directory where we store our runnable programs (Section **TODO** ref(getting-started-organize)):\n"
   ]
  },
  {
   "cell_type": "code",
   "execution_count": 27,
   "metadata": {},
   "outputs": [],
   "source": [
    "%%bash \n",
    "python"
   ]
  },
  {
   "cell_type": "markdown",
   "metadata": {},
   "source": []
  },
  {
   "cell_type": "markdown",
   "metadata": {},
   "source": []
  },
  {
   "cell_type": "markdown",
   "metadata": {},
   "source": []
  },
  {
   "cell_type": "markdown",
   "metadata": {},
   "source": []
  },
  {
   "cell_type": "markdown",
   "metadata": {},
   "source": []
  },
  {
   "cell_type": "markdown",
   "metadata": {},
   "source": []
  },
  {
   "cell_type": "markdown",
   "metadata": {},
   "source": []
  },
  {
   "cell_type": "markdown",
   "metadata": {},
   "source": []
  },
  {
   "cell_type": "markdown",
   "metadata": {},
   "source": []
  },
  {
   "cell_type": "markdown",
   "metadata": {},
   "source": []
  },
  {
   "cell_type": "markdown",
   "metadata": {},
   "source": []
  },
  {
   "cell_type": "markdown",
   "metadata": {},
   "source": []
  },
  {
   "cell_type": "markdown",
   "metadata": {},
   "source": []
  }
 ],
 "metadata": {
  "kernelspec": {
   "display_name": "Python 3",
   "language": "python",
   "name": "python3"
  },
  "language_info": {
   "codemirror_mode": {
    "name": "ipython",
    "version": 3
   },
   "file_extension": ".py",
   "mimetype": "text/x-python",
   "name": "python",
   "nbconvert_exporter": "python",
   "pygments_lexer": "ipython3",
   "version": "3.11.6"
  }
 },
 "nbformat": 4,
 "nbformat_minor": 2
}
