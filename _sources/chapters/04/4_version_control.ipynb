{
 "cells": [
  {
   "cell_type": "markdown",
   "metadata": {},
   "source": [
    "# Using Git at the Command Line \n",
    "\n",
    "\n",
    "> +++ Divide By Cucumber Error. Please Reinstall Universe And Reboot +++\n",
    ">\n",
    "> --- Terry Pratchett\n",
    "\n",
    "A **version control system** tracks changes to files and helps people share those changes with each other.\n",
    "These things can be done by emailing files to colleagues or by using Microsoft Word and Google Docs, but version control does both more accurately and efficiently.\n",
    "Originally developed to support software development, over the past fifteen years it has become the cornerstone of **reproducible research**.\n",
    "\n",
    "Version control works by storing a master copy of your code in a repository, which you can't edit directly.\n",
    "Instead, you check out a working copy of the code, edit that code, then commit changes back to the repository.\n",
    "In this way, version control records a complete revision history (i.e., of every commit), so that you can retrieve and compare previous versions at any time.\n",
    "This is useful from an individual viewpoint, because you don't need to store multiple (but slightly different) copies of the same script as seen in the comix below. \n",
    "It's also useful from a collaboration viewpoint, because the system keeps a record of who made what changes and when.\n",
    "\n",
    "![Git CMDLINE](../../figures/git-cmdline/phd-comics.png)\n",
    "\n",
    "There are many different version control systems, such as CVS, Subversion, and Mercurial, but the most widely used version control system today is **Git**.\n",
    "Many people first encounter it through a GUI like the [Github desktop client](https://desktop.github.com/) or paid tools like [GitKraken](https://www.gitkraken.com/) or terminal application like [GitUI](https://github.com/extrawurst/gitui).\n",
    "However, these tools are actually wrappers around Git's original command-line interface,which gives us access to all of Git's features.\n",
    "This lesson describes how to perform fundamental operations using that interface; Chapter **TODO** ref(git-advanced) then introduces more advanced operations that can be used to implement a smoother research workflow.\n",
    "\n",
    "To show how Git works, we will apply it to the Zipf's Law project. Our project directory should currently include:\n",
    "\n",
    "```text\n",
    "zipf/\n",
    "├── bin\n",
    "│   ├── book_summary.sh\n",
    "│   ├── collate.py\n",
    "│   ├── countwords.py\n",
    "│   ├── plotcounts.py\n",
    "│   ├── script_template.py\n",
    "│   └── utilities.py\n",
    "├── data\n",
    "│   ├── README.md\n",
    "│   ├── dracula.txt\n",
    "│   ├── frankenstein.txt\n",
    "│   └── ...\n",
    "└── results\n",
    "    ├── dracula.csv\n",
    "    ├── jane_eyre.csv\n",
    "    ├── jane_eyre.png\n",
    "    └── moby_dick.csv\n",
    "```\n",
    "\n",
    "`bin/plotcounts.py` is the solution to Exercise [Scripting - Exercise Better Plotting](scripting-ex-better-plotting); over the course of this chapter we will edit it to produce more informative plots. \n",
    "Initially, it looks like this:"
   ]
  },
  {
   "cell_type": "code",
   "execution_count": null,
   "metadata": {},
   "outputs": [],
   "source": []
  }
 ],
 "metadata": {
  "kernelspec": {
   "display_name": "Python 3",
   "language": "python",
   "name": "python3"
  },
  "language_info": {
   "name": "python",
   "version": "3.11.6"
  }
 },
 "nbformat": 4,
 "nbformat_minor": 2
}
