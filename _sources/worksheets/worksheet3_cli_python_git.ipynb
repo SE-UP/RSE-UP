{
 "cells": [
  {
   "cell_type": "markdown",
   "metadata": {},
   "source": [
    "# Worksheet 3 - Command Line Tools with Python , Git and the Command Line, Git UP"
   ]
  },
  {
   "cell_type": "markdown",
   "metadata": {},
   "source": [
    "The exercises on this worksheet let you practice creating command-line tools with Python, and using Git from the command-line and via Git.UP. The project assignment asks you to set up the directory structure for your project, and then do an initial commit to Git.UP."
   ]
  },
  {
   "cell_type": "markdown",
   "metadata": {},
   "source": [
    "## Exercise 1: A Better Ploting Program\n",
    "\n",
    "Do exercise 5.4 - [A better ploLng program](https://software-engineering-group-up.github.io/RSE-UP/exercises/python_cli.html#a-better-plotting-program) from our online book. It is based on the script template and code for plottng the word count distribution discussed in the lecture. Note that the solution to this exercise will be used in following lectures, and doing the exercise is the best way of familiarizing yourself with it wel"
   ]
  },
  {
   "cell_type": "code",
   "execution_count": null,
   "metadata": {},
   "outputs": [],
   "source": [
    "# Your code Here"
   ]
  },
  {
   "cell_type": "markdown",
   "metadata": {},
   "source": [
    "## Exercise 2: Git.UP\n",
    "\n",
    "The University of Potsdam hosts an own GitLab service at https://gitup.uni-potsdam.de/.\n",
    "You can access and use it with your university account. If you have not tried it out yet, go to the URL, try to log in and browse around a bit. Go to your profile page and personalize it as\n",
    "you like, for example by adding a profile picture or avatar. You will need access to Git.UP for the course projects, so please seek help in the lab in case of any problem"
   ]
  },
  {
   "cell_type": "markdown",
   "metadata": {},
   "source": [
    "## Exercise 3: Using Git at the Command Line\n",
    "\n",
    "In the lecture we discussed the basics of working with Git at the command line. It is important for the course to be familiar with at least the basics (cf. [git basic](https://software-engineering-group-up.github.io/RSE-UP/chapters/intro_version_control.html)). Similar to working with the Unix Shell, for some of you this might be old hat, for others\n",
    "the first time you actually work with Git. If you feel you should practice the basics, go through the exercises at the end of [Chapter on git Basic](https://software-engineering-group-up.github.io/RSE-UP/chapters/intro_version_control.html) and see if you can solve them (whenever they mention to work with GitHub, you can replace that with Git.UP). If needed, revisit the\n",
    "chapter text or look up the solutions. In any case, make sure that you can mark as understood the key points of the chapter, including:\n",
    "\n",
    "- Use `git config` with the `--global` option to configure your username, email address, and other preferences once per machine.\n",
    "- `git init` initializes a repository.\n",
    "- Git stores all repository management data in the `.git` subdirectory of the repository’s root directory.\n",
    "- `git status` shows the status of a repository.\n",
    "- `git add` puts files in the repository’s staging area.\n",
    "- `git commit` saves the staged content as a new commit in the local repository.\n",
    "- `git log` lists previous commits.\n",
    "- `git diff` shows the difference between two versions of the repository\n",
    "- Synchronize your local repository with a remote repository on a forge such as GitHub.\n",
    "- `git remote` manages bookmarks pointing at remote repositories.\n",
    "- `git push` copies changes from a local repository to a remote repository.\n",
    "- `git pull` copies changes from a remote repository to a local repository.\n",
    "- `git fetch` shows changes between local and remote versions without copying them.\n",
    "- `git restore` and git checkout recover old versions of files.\n",
    "- The `.gitignore` file tells Git what files to ignore."
   ]
  }
 ],
 "metadata": {
  "language_info": {
   "name": "python"
  }
 },
 "nbformat": 4,
 "nbformat_minor": 2
}
