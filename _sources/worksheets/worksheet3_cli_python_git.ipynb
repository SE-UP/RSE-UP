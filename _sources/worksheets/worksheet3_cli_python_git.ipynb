{
 "cells": [
  {
   "cell_type": "markdown",
   "metadata": {},
   "source": [
    "# Worksheet 3 - Command Line Tools with Python , Git and the Command Line, Git UP"
   ]
  },
  {
   "cell_type": "markdown",
   "metadata": {},
   "source": [
    "The exercises on this worksheet let you practice creating command-line tools with Python, and using Git from the command-line and via Git.UP. The project assignment asks you to set up the directory structure for your project, and then do an initial commit to Git.UP."
   ]
  },
  {
   "cell_type": "markdown",
   "metadata": {},
   "source": [
    "## Exercise 1: A Better Ploting Program\n",
    "\n",
    "Do exercise 5.11.4 - A beKer ploLng program from Irving et al. It is based on the script\n",
    "template and code for ploLng the word count distribu9on discussed in the lecture. Note\n",
    "that the solu9on to this exercise will be used in following lectures, and doing the exercise is\n",
    "the best way of familiarizing yourself with it wel"
   ]
  },
  {
   "cell_type": "code",
   "execution_count": null,
   "metadata": {},
   "outputs": [],
   "source": []
  }
 ],
 "metadata": {
  "language_info": {
   "name": "python"
  }
 },
 "nbformat": 4,
 "nbformat_minor": 2
}
