{
 "cells": [
  {
   "cell_type": "markdown",
   "metadata": {},
   "source": [
    "# Worksheet 2 - Installing more Tools, working with the Unix SHell, Getting Started with the Project"
   ]
  },
  {
   "cell_type": "markdown",
   "metadata": {},
   "source": [
    "This worksheet contains further instructions about tools to install and data to download for the coursework, as well as some exercises around working with the Unix Shell. This week you will also start to work on your first project and think about what you want to do there.\n"
   ]
  },
  {
   "cell_type": "markdown",
   "metadata": {},
   "source": [
    "## Preparations: Install Bash, Git, GNU Make; Download Zipf Dataset\n",
    "\n",
    "Last week we have already asked you to install Anaconda (including Python 3) or Python. For the coursework you will furthermore need a text editor, a Bash shell, Git version control and\n",
    "GNU Make as well as the data files used for the Zipf example project. Please refer to the following Section of our book for instructions:\n",
    "• [Installing Software](https://software-engineering-group-up.github.io/RSE-UP/chapters/getting_started.html#installing-the-software)\n",
    "• [Downloading the Data](https://software-engineering-group-up.github.io/RSE-UP/chapters/getting_started.html#downloading-the-data)"
   ]
  },
  {
   "cell_type": "markdown",
   "metadata": {},
   "source": [
    "## Exercise: Working with the Unix Shell\n",
    "\n",
    "In the lecture we discussed basic and advanced aspects of working with the Unix Shell. It is important for the course to be familiar with at least the basics (cf. [Chapter 2 - Bash Basics](https://software-engineering-group-up.github.io/RSE-UP/chapters/bash_basics.html#)). For some of you this might be old hat, for others the first time you actually work with a shell. If you feel you should practice the basics, go through the exercises at the end of\n",
    "Chapter 2 and see if you can solve them. If needed, revisit the chapter text or look up the solutions. In any case, make sure that you can mark as understood the key points of the\n",
    "chapter, including:\n",
    "\n",
    "- `pwd` prints the user’s current working directory.\n",
    "- `/` or `\\` on its own is the root directory of the whole filesystem.\n",
    "- `ls` prints a list of files and directories.\n",
    "- An absolute path specifies a location from the root of the filesystem.\n",
    "- A relative path specifies a location in the filesystem starting from the current directory.\n",
    "- `cd` changes the current working directory.\n",
    "- `..` means the parent directory.\n",
    "- `.` on its own means the current directory.\n",
    "- `mkdir` creates a new directory.\n",
    "- `cp` copies a file.\n",
    "- `rm` removes (deletes) a file.\n",
    "- `mv` moves (renames) a file or directory.\n",
    "- `*` matches zero or more characters in a filename.\n",
    "- `?` matches any single character in a filename.\n",
    "- `man` displays the manual page for a given command; some commands also have a `--help` option.\n",
    "\n",
    "\n",
    "Remaining open questions can be discussed in the lab about this worksheet. [Chapter 3 - Building tools with the Unix Shell](https://software-engineering-group-up.github.io/RSE-UP/chapters/bash_tools.html)  and using further features ([Chapter 4 - Going further with the Unix Shell](https://software-engineering-group-up.github.io/RSE-UP/chapters/bash_advanced.html) ) can be very helpful for Research Software Engineering (RSE) practice and is therefore covered in the lectures, but is not directly required for the coursework. We call on your self-responsibility here: Use the exercises of the respective chapters to extend or revitalize your Shell skills as you see need. And ask questions in the lab if anything remains unclear"
   ]
  },
  {
   "cell_type": "markdown",
   "metadata": {},
   "source": []
  },
  {
   "cell_type": "code",
   "execution_count": null,
   "metadata": {},
   "outputs": [],
   "source": []
  }
 ],
 "metadata": {
  "language_info": {
   "name": "python"
  }
 },
 "nbformat": 4,
 "nbformat_minor": 2
}
