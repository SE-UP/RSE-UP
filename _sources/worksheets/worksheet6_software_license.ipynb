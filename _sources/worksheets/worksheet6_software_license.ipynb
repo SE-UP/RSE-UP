{
 "cells": [
  {
   "cell_type": "markdown",
   "metadata": {},
   "source": [
    "# Worksheet 6 - Software Licensing, Citation and FAIR\n",
    "\n",
    "This worksheet starts with two exercises on licenses and FAIR Principles for Research Sotware to deepen the discussion started in the lecture. The project assignment asks you to\n",
    "add license and citation information to your project, and optionally conduct an automated FAIRness and best practices assessment."
   ]
  },
  {
   "cell_type": "markdown",
   "metadata": {},
   "source": [
    "## Exercise 1: So2ware Licenses\n",
    "\n",
    "Familiarize yourself with the most common software and Creative Commons license, for example at https://choosealicense.com/ and https://creaEvecommons.org/licenses/. \n",
    "Below are three excerpts from common licenses. Can you identify the respective licenses?"
   ]
  },
  {
   "cell_type": "markdown",
   "metadata": {},
   "source": [
    "1. If You Share the Licensed Material (including in modified form), You must:\n",
    "    a. retain the following if it is supplied by the Licensor with the Licensed Material:\n",
    "        i. identification of the creator(s) of the Licensed Material and any others designated to receive atribution, in any reasonable manner requested by the Licensor (including by pseudonym if designated); […]\n",
    "\n",
    "2. THE SOFTWARE IS PROVIDED \"AS IS\", WITHOUT WARRANTY OF ANY KIND, EXPRESS OR IMPLIED, INCLUDING BUT NOT LIMITED TO THE WARRANTIES OF MERCHANTABILITY, FITNESS FOR A PARTICULAR PURPOSE AND NONINFRINGEMENT.\n",
    "\n",
    "3. You may charge any price or no price for each copy that you convey, and you may offer\n",
    "support or warranty protection for a fee."
   ]
  },
  {
   "cell_type": "markdown",
   "metadata": {},
   "source": []
  },
  {
   "cell_type": "markdown",
   "metadata": {},
   "source": [
    "## Exercise 2: FAIR Principles for Research Software\n",
    "\n",
    "Choose a software project that you are familiar with or interested in exploring. It can be your own project or a publicly available one. Evaluate the software based on the FAIR principles:"
   ]
  },
  {
   "cell_type": "markdown",
   "metadata": {},
   "source": [
    "- **Findable**: Assess if the software is discoverable, searchable, and identifiable. Are there unique identifiers, metadata, or persistent links available? Is the software well-described and indexed in relevant repositories or catalogs?\n",
    "\n",
    "- **Accessible**: Determine the accessibility of the software. Is it openly available to download and use? Are there any access restricEons or licensing issues? Does it have clear installation instructions, requirements, and user support?\n",
    "\n",
    "- **Interoperable**: Evaluate the interoperability of the software. Does it use standard data formats, protocols, or APIs? Can it seamlessly integrate with other tools or platforms? Does it adhere to relevant community standards?\n",
    "\n",
    "- **Reusable**: Assess the software's reusability. Does it have proper documentation, including user guides and API references? Are there examples, tutorials, or test datasets available? Is the software modular, allowing for easy customization or extension?\n"
   ]
  },
  {
   "cell_type": "markdown",
   "metadata": {},
   "source": [
    "Analyze the findings from your evaluation. Identify the strengths and weaknesses of the software project based on the FAIR principles. Note areas where the software excels and\n",
    "areas that need improvement. Finally, if the project is on GitHub or on Gitlab, analyze it for compliance with the “Five Recommendations for FAIR software” and other best practices using the “howfairis” tool (https://pypi.org/project/howfairis/). Is its verdict in line with your assessment?"
   ]
  },
  {
   "cell_type": "markdown",
   "metadata": {},
   "source": []
  }
 ],
 "metadata": {
  "language_info": {
   "name": "python"
  }
 },
 "nbformat": 4,
 "nbformat_minor": 2
}
