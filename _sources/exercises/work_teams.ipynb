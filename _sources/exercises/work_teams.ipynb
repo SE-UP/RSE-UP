{
 "cells": [
  {
   "cell_type": "markdown",
   "metadata": {},
   "source": [
    "# Exercise - Work Teams"
   ]
  },
  {
   "cell_type": "markdown",
   "metadata": {},
   "source": [
    "\n",
    "## 1) Finding information \n",
    "\n",
    "Take a look at [the GitHub repository for this book](https://github.com/Software-Engineering-Group-UP/RSE-UP).\n",
    "Where is the information for licensing and contributing?"
   ]
  },
  {
   "cell_type": "markdown",
   "metadata": {},
   "source": [
    "\n",
    "## 2) Add a Code of Conduct to your project\n",
    "\n",
    "Add a `CONDUCT.md` file to your Zipf's Law project repository.\n",
    "Use the [Contributor Covenant](https://www.contributor-covenant.org) Code of Conduct template and modify the\n",
    "places that need updating (e.g., who to contact).\n",
    "Be sure to edit the contact information in both before committing the files."
   ]
  },
  {
   "cell_type": "markdown",
   "metadata": {},
   "source": [
    "\n",
    "## 3) Add a license to your project \n",
    "\n",
    "Add either an MIT or a GPL `LICENSE.md` file to your Zipf's Law project\n",
    "repository.\n",
    "Modify the contents to include your full name and year.\n"
   ]
  },
  {
   "cell_type": "markdown",
   "metadata": {},
   "source": [
    "## 4) Adding contribution guidelines\n",
    "\n",
    "1.  Add a section to the `README.md` file in the Zipf's Law project\n",
    "    to tell people where to find out more about contributing.\n",
    "\n",
    "2.  Add a `CONTRIBUTING.md` file in the Zipf's Law project\n",
    "    to describe how other people can contribute to it.\n",
    "\n",
    "Be sure to add it to the root directory of your Git repository,\n",
    "so that when someone opens a pull request or creates an issue on GitHub,\n",
    "they will be presented with a link to the CONTRIBUTING file\n",
    "(see the [GitHub contributors guide](https://docs.github.com/en/github/building-a-strong-community/setting-guidelines-for-repository-contributors) for details)."
   ]
  },
  {
   "cell_type": "markdown",
   "metadata": {},
   "source": [
    "\n",
    "## 5) File an issue \n",
    "\n",
    "Create a feature request issue in your Zipf's Law project repository\n",
    "to ask that unit tests be written for `countwords.py`\n",
    "(we will do this in Chapter [Testing](https://github.com/Software-Engineering-Group-UP/RSE-UP/chapters/testing/testing.html))."
   ]
  },
  {
   "cell_type": "markdown",
   "metadata": {},
   "source": [
    "## 6) Label issues \n",
    "\n",
    "1.  Create the labels *current* and *discussion*\n",
    "    to help organize and prioritize your issues.\n",
    "2.  Delete at least one of the labels that GitHub automatically created for you.\n",
    "3.  Apply at least one label to each issue in your repository."
   ]
  },
  {
   "cell_type": "markdown",
   "metadata": {},
   "source": [
    "## 7) Balancing individual and team needs \n",
    "\n",
    "A new member of your team has a medically diagnosed attention disorder.\n",
    "In order to help themselves focus,\n",
    "they need to talk to themselves while coding.\n",
    "Several other members of your team have come to you privately\n",
    "to say that they find this distracting.\n",
    "What steps would you take?"
   ]
  },
  {
   "cell_type": "markdown",
   "metadata": {},
   "source": [
    "## 8) Crediting invisible contributions\n",
    "\n",
    "Your team has a rule:\n",
    "if someone's name appears in the Git history for a project,\n",
    "they are listed as a co-author on papers for that project.\n",
    "A new member of your team has complained that this is unfair:\n",
    "people who haven't contributed for over two years are still being included as authors,\n",
    "while they aren't included because the many hours they have spent doing code\n",
    "reviews don't show up in the Git history.\n",
    "How would you address this issue?"
   ]
  },
  {
   "cell_type": "markdown",
   "metadata": {},
   "source": [
    "## 9) Who are you? \n",
    "\n",
    "Which (if any) of the following profiles describes you best?\n",
    "How would you help each of these people if they were on your team?\n",
    "\n",
    "-   *Anna* thinks she knows more about every subject\n",
    "    than everyone else on the team put together.\n",
    "    No matter what you say, she'll correct you;\n",
    "    no matter what you know, she knows better.\n",
    "    If you keep track in team meetings of how often people interrupt one another,\n",
    "    her score is usually higher than everyone else's put together.\n",
    "\n",
    "-   *Bao* is a contrarian:\n",
    "    no matter what anyone says, he'll take the opposite side.\n",
    "    This is healthy in small doses,\n",
    "    but when Bao does it,\n",
    "    there's always another objection lurking behind the first half dozen.\n",
    "\n",
    "-   *Frank* believes that knowledge is power.\n",
    "    He enjoys knowing things that other people don't---or to be more accurate,\n",
    "    he enjoys it when people know he knows things they don't.\n",
    "    Frank can actually make things work,\n",
    "    but when asked how he did it,\n",
    "    he'll grin and say,\n",
    "    \"Oh, I'm sure you can figure it out.\"\n",
    "\n",
    "-   *Hediyeh* is quiet.\n",
    "    Very quiet.\n",
    "    She never speaks up in meetings,\n",
    "    even when she knows that what other people are saying is wrong.\n",
    "    She might contribute to the mailing list,\n",
    "    but she's very sensitive to criticism,\n",
    "    and will always back down rather than defending her point of view.\n",
    "\n",
    "-   *Kenny* is a hitchhiker.\n",
    "    He has discovered that most people would rather shoulder some extra work than snitch,\n",
    "    and he takes advantage of it at every turn.\n",
    "    The frustrating thing is that he's so damn *plausible*\n",
    "    when someone finally does confront him.\n",
    "    \"There have been mistakes on all sides,\" he says,\n",
    "    or,\n",
    "    \"Well, I think you're nit-picking.\"\n",
    "\n",
    "-   *Melissa* would easily have made the varsity procrastination team\n",
    "    if she'd bothered to show up to tryouts.\n",
    "    She means well---she really does feel bad about letting people down---but\n",
    "    somehow her tasks are never finished until the last possible moment.\n",
    "    Of course, that means that everyone who is depending on her can't do their work until\n",
    "    *after* the last possible moment.\n",
    "\n",
    "-   *Petra*'s favorite phrase is \"why don't we.\"\n",
    "    Why don't we write a GUI to help people edit the program's configuration files?\n",
    "    Hey, why don't we invent our own little language for designing GUIs?\n",
    "\n",
    "-   *Raj* is rude.\n",
    "    \"It's just the way I talk,\" he says.\n",
    "    \"If you can't hack it, maybe you should find another team.\"\n",
    "    His favorite phrase is, \"That's stupid,\"\n",
    "    and he uses obscenity in every second sentence."
   ]
  }
 ],
 "metadata": {
  "language_info": {
   "name": "python"
  }
 },
 "nbformat": 4,
 "nbformat_minor": 2
}
