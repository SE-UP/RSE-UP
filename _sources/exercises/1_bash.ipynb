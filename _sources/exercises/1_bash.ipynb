{
 "cells": [
  {
   "cell_type": "markdown",
   "metadata": {},
   "source": [
    "# Bash Basic Exercises\n",
    "\n",
    "These exercise should help you either reviewing or learning new shell commands. The exercises can be done localy on Linux, Mac or Windows 11 bash console. \n",
    "You can also open this JupyterNotebook directly in Binder or google collab and do the exercises. In this case be aware that the system runs on linux, which is important when using paths.  \n",
    "Linux and mac use `/` instead of `\\` as an example. \n",
    "\n",
    "But First we go through a quick explanation on how to use **BASH** in a jupyter notebook on a linux or mac system."
   ]
  },
  {
   "cell_type": "markdown",
   "metadata": {},
   "source": [
    "## Using Bash in Jupyter Notebook"
   ]
  },
  {
   "cell_type": "markdown",
   "metadata": {},
   "source": [
    "Depending on what system you use it is important to first figure out the current path on the file system, for that run the next cell. \n",
    "\n"
   ]
  },
  {
   "cell_type": "code",
   "execution_count": null,
   "metadata": {},
   "outputs": [],
   "source": [
    "%%bash\n",
    "pwd"
   ]
  },
  {
   "cell_type": "markdown",
   "metadata": {},
   "source": [
    "To run a single command you may add an exclamation mark to the front of the command. As seen as in the example below **!** is added to the command *echo*. \n",
    "After that just run the cell and it should give the output, in this case \"hello world\".  "
   ]
  },
  {
   "cell_type": "code",
   "execution_count": 1,
   "metadata": {},
   "outputs": [
    {
     "name": "stdout",
     "output_type": "stream",
     "text": [
      "hello world!\n"
     ]
    }
   ],
   "source": [
    "!echo \"hello world!\""
   ]
  },
  {
   "cell_type": "markdown",
   "metadata": {},
   "source": [
    "However, that won't work if for example you want to run multiple commands that talk to each other, since each command is executed in a separate process:"
   ]
  },
  {
   "cell_type": "code",
   "execution_count": 2,
   "metadata": {},
   "outputs": [
    {
     "name": "stdout",
     "output_type": "stream",
     "text": [
      "\n"
     ]
    }
   ],
   "source": [
    "!export RAND=42\n",
    "!echo $RAND "
   ]
  },
  {
   "cell_type": "markdown",
   "metadata": {},
   "source": [
    "Nothing is printed, since RAND was defined in a separate process which has already exited"
   ]
  },
  {
   "cell_type": "markdown",
   "metadata": {},
   "source": [
    "But, if your notebook code cell starts with **%%bash**, it's all executed as one script!"
   ]
  },
  {
   "cell_type": "code",
   "execution_count": 3,
   "metadata": {},
   "outputs": [
    {
     "name": "stdout",
     "output_type": "stream",
     "text": [
      "42\n"
     ]
    }
   ],
   "source": [
    "%%bash\n",
    "\n",
    "export RAND=42\n",
    "echo $RAND"
   ]
  },
  {
   "cell_type": "markdown",
   "metadata": {},
   "source": [
    "You can also pass python variables into your shell commands, and vise versa! "
   ]
  },
  {
   "cell_type": "code",
   "execution_count": 5,
   "metadata": {},
   "outputs": [
    {
     "name": "stdout",
     "output_type": "stream",
     "text": [
      "['.', '..', '2-2_bash_tools.md', '2-3_bash_advanced.md', '2_bash_basics.md', 'bash.ipynb']\n"
     ]
    }
   ],
   "source": [
    "# You can also pass python variables into your shell commands, and vise versa!\n",
    "python_var = []\n",
    "\n",
    "\n",
    "output_of_ls_as_python_var = !ls -a\n",
    "print(output_of_ls_as_python_var)"
   ]
  },
  {
   "cell_type": "markdown",
   "metadata": {},
   "source": [
    "## 1. Basic Exercises"
   ]
  },
  {
   "cell_type": "markdown",
   "metadata": {},
   "source": [
    "The exercises below involve creating and moving new files, as well as considering hypothetical files.\n",
    "Please note that if you create or move any files or directories in your Zipf's Law project, you may want to reorganize your files following the outline at the beginning of the next chapter.\n",
    "If you accidentally delete necessary files, you can start with a fresh copy of the data files by following the instructions in Section [1 getting started](https://software-engineering-group-up.github.io/RSE-UP/chapters/01/1_getting_started.html#downloading-the-data)."
   ]
  },
  {
   "cell_type": "markdown",
   "metadata": {},
   "source": [
    "### Exploring more `ls` flags\n",
    "\n",
    "1.1.1 What does the command `ls` do when used with the `-l` option?\n",
    "\n",
    "1.1.2 What happens if you use two options at the same time, such as `ls -l -h`?"
   ]
  },
  {
   "cell_type": "markdown",
   "metadata": {},
   "source": [
    "### Listing recursively and by time \n",
    "The command `ls -R` lists the contents of directories recursively, which means the subdirectories, sub-subdirectories, and so on at each level are listed.\n",
    "The command `ls -t` lists things by time of last change, with most recently changed files or directories first.\n",
    "\n",
    "1.2.1 In what order does `ls -R -t` display things? Hint: `ls -l` uses a long listing format to view timestamps."
   ]
  },
  {
   "cell_type": "markdown",
   "metadata": {},
   "source": [
    "### Absolute and relative paths\n",
    "\n",
    "1.3.1 Starting from your current directory, which of the following commands could you use to navigate to your home directory,\n",
    "which is `/Users/*YOUR-USERNAME` or on Linux and Mac `/home/*YOUR-USERNAME*` ?"
   ]
  },
  {
   "cell_type": "markdown",
   "metadata": {},
   "source": [
    "1. `cd .`\n",
    "2. `cd /`\n",
    "3. `cd /home/amira`\n",
    "4. `cd ../..`\n",
    "5. `cd ~`\n",
    "6. `cd home`\n",
    "7. `cd ~/data/..`\n",
    "8. `cd`\n",
    "9. `cd ..`\n",
    "10. `cd ../.`"
   ]
  },
  {
   "cell_type": "markdown",
   "metadata": {},
   "source": [
    "### Relative path resolution\n",
    "\n",
    "1.3.1 Using the filesystem shown below,\n",
    "if `pwd` displays `/Users/sami`, what will `ls -F ../backup` display?\n",
    "\n",
    "1.  `../backup: No such file or directory`\n",
    "2.  `final original revised`\n",
    "3.  `final/ original/ revised/`\n",
    "4.  `data/ analysis/ doc/`\n",
    "\n",
    "\n",
    "![Filesystem/exercise](../figures/bash-basics/exercise-filesystem.png)\n",
    "\n",
    "\n"
   ]
  },
  {
   "cell_type": "markdown",
   "metadata": {},
   "source": [
    "### `ls` reading comprehension \n",
    "\n",
    "1.4.1 Using the filesystem shown above, if `pwd` displays `/Users/backup`, and `-r` tells `ls` to display things in reverse order, what command(s) will result in the following output:\n",
    "\n",
    "```bash\n",
    "doc/ data/ analysis/\n",
    "```\n",
    "\n",
    "1.  `ls pwd`\n",
    "2.  `ls -r -F`\n",
    "3.  `ls -r -F /Users/backup`"
   ]
  },
  {
   "cell_type": "markdown",
   "metadata": {},
   "source": [
    "### Creating files a different way \n",
    "\n",
    "1.5.1 What happens when you execute `touch my_file.txt`?  (Hint: use `ls -l` to find information about the file)\n",
    "\n",
    "1.5.2 When might you want to create a file this way?"
   ]
  },
  {
   "cell_type": "markdown",
   "metadata": {},
   "source": [
    "### Using `rm` safely \n",
    "\n",
    "1.6.1 What would happen if you executed `rm -i my_file.txt` on the file created in the previous exercise?\n",
    "\n",
    "1.6.2 Why would we want this protection when using `rm`?"
   ]
  },
  {
   "cell_type": "markdown",
   "metadata": {},
   "source": [
    "\n",
    "### Moving to the current folder \n",
    "\n",
    "After running the following commands,\n",
    "Amira realizes that she put the (hypothetical) files `chapter1.txt` and `chapter2.txt` into the wrong folder:\n",
    "\n",
    "```bash\n",
    "$ ls -F\n",
    "```\n",
    "```text\n",
    "  data/  docs/\n",
    "```\n",
    "\n",
    "```bash\n",
    "$ ls -F data\n",
    "```\n",
    "```text\n",
    "README.md\t\t\tfrankenstein.txt\t\tsherlock_holmes.txt\n",
    "chapter1.txt\t\tjane_eyre.txt\t\t\ttime_machine.txt\n",
    "chapter2.txt\t\tmoby_dick.txt\n",
    "dracula.txt\t\t\tsense_and_sensibility.txt\n",
    "```\n",
    "\n",
    "```bash\n",
    "$ cd docs\n",
    "```\n",
    "\n",
    "1.7.1  Fill in the blanks to move these files to the current folder (i.e., the one she is currently in):\n",
    "\n",
    "```bash\n",
    "$ mv ___/chapter1.txt  ___/chapter2.txt ___\n",
    "```"
   ]
  },
  {
   "cell_type": "markdown",
   "metadata": {},
   "source": [
    "### Renaming files \n",
    "\n",
    "Suppose that you created a plain-text file in your current directory to contain a list of the statistical tests you will need to do to analyze your data, and named it: `statstics.txt`\n",
    "\n",
    "1.8.1 After creating and saving this file you realize you misspelled the filename! You want to correct the mistake, which of the following commands could you use to do so?\n",
    "\n",
    "1. `cp statstics.txt statistics.txt`\n",
    "2. `mv statstics.txt statistics.txt`\n",
    "3. `mv statstics.txt .`\n",
    "4. `cp statstics.txt .`\n"
   ]
  },
  {
   "cell_type": "markdown",
   "metadata": {},
   "source": [
    "### Moving and copying \n",
    "\n",
    "1.9.1 Assuming the following hypothetical files, what is the output of the closing `ls` command in the sequence shown below?\n",
    "\n",
    "```bash\n",
    "$ pwd\n",
    "```\n",
    "\n",
    "```text\n",
    "/Users/amira/data\n",
    "```\n",
    "\n",
    "```bash\n",
    "$ ls\n",
    "```\n",
    "\n",
    "```text\n",
    "books.dat\n",
    "```\n",
    "\n",
    "```bash\n",
    "$ mkdir doc\n",
    "$ mv books.dat doc/\n",
    "$ cp doc/books.dat ../books-saved.dat\n",
    "$ ls\n",
    "```\n",
    "\n",
    "1.   `books-saved.dat doc`\n",
    "2.   `doc`\n",
    "3.   `books.dat doc`\n",
    "4.   `books-saved.dat`"
   ]
  },
  {
   "cell_type": "markdown",
   "metadata": {},
   "source": [
    "### Copy with multiple filenames \n",
    "\n",
    "This exercise explores how `cp` responds when attempting to copy multiple things.\n",
    "\n",
    "1.10.1 What does `cp` do when given several filenames followed by a directory name?\n",
    "\n",
    "```bash\n",
    "$ mkdir backup\n",
    "$ cp dracula.txt frankenstein.txt backup/\n",
    "```\n",
    "\n",
    "1.10.2 What does `cp` do when given three or more filenames?\n",
    "\n",
    "```bash\n",
    "$ cp dracula.txt frankenstein.txt jane_eyre.txt\n",
    "```\n"
   ]
  },
  {
   "cell_type": "markdown",
   "metadata": {},
   "source": [
    "### List filenames matching a pattern\n",
    "\n",
    "1.11.1 When run in the `data` directory of your project directory, which `ls` command(s) will produce this output?\n",
    "\n",
    "`jane_eyre.txt   sense_and_sensibility.txt`\n",
    "\n",
    "1. `ls ??n*.txt`\n",
    "2. `ls *e_*.txt`\n",
    "3. `ls *n*.txt`\n",
    "4. `ls *n?e*.txt`"
   ]
  },
  {
   "cell_type": "markdown",
   "metadata": {},
   "source": [
    "### Organizing directories and files \n",
    "\n",
    "Amira is working on a project and she sees that her files aren't very well organized:\n",
    "\n",
    "```bash\n",
    "$ ls -F\n",
    "```\n",
    "\n",
    "```text\n",
    "books.txt    data/    results/   titles.txt\n",
    "```\n",
    "\n",
    "The `books.txt` and `titles.txt` files contain output from her data analysis. \n",
    "\n",
    "1.12.1 What command(s) does she need to run to produce the output shown?\n",
    "\n",
    "```bash\n",
    "$ ls -F\n",
    "```\n",
    "\n",
    "```text\n",
    "data/   results/\n",
    "```\n",
    "\n",
    "```bash\n",
    "$ ls results\n",
    "```\n",
    "\n",
    "```text\n",
    "books.txt    titles.txt\n",
    "```"
   ]
  },
  {
   "cell_type": "markdown",
   "metadata": {},
   "source": [
    "### Reproduce a directory structure \n",
    "\n",
    "You're starting a new analysis, and would like to duplicate the directory structure from your previous experiment so you can add new data.\n",
    "\n",
    "Assume that the previous experiment is in a folder called `2016-05-18`, which contains a `data` folder that in turn contains folders named `raw` and `processed` that contain data files.  The goal is to copy the folder structure of `2016-05-18/data` into a folder called `2016-05-20` so that your final directory structure looks like this:\n",
    "\n",
    "```bash\n",
    "\t2016-05-20/\n",
    "\t└── data\n",
    "\t    ├── processed\n",
    "\t    └── raw\n",
    "```\n",
    "1.13.1 Which of the following commands would achieve this objective?\n",
    "\n",
    "1.13.2 What would the other commands do?\n",
    "\n",
    "```bash\n",
    "# Set 1\n",
    "$ mkdir 2016-05-20\n",
    "$ mkdir 2016-05-20/data\n",
    "$ mkdir 2016-05-20/data/processed\n",
    "$ mkdir 2016-05-20/data/raw\n",
    "```\n",
    "\n",
    "```bash\n",
    "# Set 2\n",
    "$ mkdir 2016-05-20\n",
    "$ cd 2016-05-20\n",
    "$ mkdir data\n",
    "$ cd data\n",
    "$ mkdir raw processed\n",
    "```\n",
    "\n",
    "```bash\n",
    "# Set 3\n",
    "$ mkdir 2016-05-20/data/raw\n",
    "$ mkdir 2016-05-20/data/processed\n",
    "```\n",
    "\n",
    "```bash\n",
    "# Set 4\n",
    "$ mkdir 2016-05-20\n",
    "$ cd 2016-05-20\n",
    "$ mkdir data\n",
    "$ mkdir raw processed\n",
    "```"
   ]
  },
  {
   "cell_type": "markdown",
   "metadata": {},
   "source": [
    "### Wildcard expressions \n",
    "\n",
    "Wildcard expressions can be very complex, but you can sometimes write them in ways that only use simple syntax, at the expense of being a bit more verbose.\n",
    "In your `data/` directory, the wildcard expression `[st]*.txt` matches all files beginning with `s` or `t` and ending with `.txt`. \n",
    "\n",
    "1.14 Imagine you forgot about this.\n",
    "\n",
    "1.  Can you match the same set of files with basic wildcard expressions\n",
    "    that do not use the `[]` syntax? *Hint*: You may need more than one\n",
    "    expression.\n",
    "\n",
    "2.  Under what circumstances would your new expression produce an error message\n",
    "    where the original one would not?"
   ]
  },
  {
   "cell_type": "markdown",
   "metadata": {},
   "source": [
    "### Removing unneeded files\n",
    "\n",
    "Suppose you want to delete your processed data files, and only keep your raw files and processing script to save storage.\n",
    "The raw files end in `.txt` and the processed files end in `.csv`. \n",
    "\n",
    "1.15.1 Which of the following would remove all the processed data files, and *only* the processed data files?\n",
    "\n",
    "1. `rm ?.csv`\n",
    "2. `rm *.csv`\n",
    "3. `rm * .csv`\n",
    "4. `rm *.*`\n"
   ]
  },
  {
   "cell_type": "markdown",
   "metadata": {},
   "source": [
    "### Other wildcards \n",
    "\n",
    "The shell provides several wildcards beyond the widely used `*`.\n",
    "\n",
    "1.16.1 To explore them, explain in plain language what (hypothetical) files the expression `novel-????-[ab]*.{txt,pdf}` matches and why."
   ]
  },
  {
   "cell_type": "markdown",
   "metadata": {},
   "source": [
    "## 2. BASH Tool Exercises"
   ]
  },
  {
   "cell_type": "markdown",
   "metadata": {},
   "source": [
    "### 2.1.1 What does `>>` mean?\n",
    "\n",
    "We have seen the use of `>`, but there is a similar operator `>>` which works slightly differently.\n",
    "We'll learn about the differences between these two operators by printing some strings.\n",
    "We can use the `echo` command to print strings as shown below:\n",
    "\n",
    "\n",
    "```bash\n",
    "$ echo The echo command prints text\n",
    "```\n",
    "\n",
    "```text\n",
    "The echo command prints text\n",
    "```\n",
    "\n",
    "Now test the commands below to reveal the difference between the two operators:\n",
    "\n",
    "```bash\n",
    "$ echo hello > testfile01.txt\n",
    "```\n",
    "\n",
    "and:\n",
    "\n",
    "```bash\n",
    "$ echo hello >> testfile02.txt\n",
    "```\n",
    "\n",
    "Hint: Try executing each command twice in a row and then examining the output files."
   ]
  },
  {
   "cell_type": "markdown",
   "metadata": {},
   "source": [
    "### Appending data \n",
    "\n",
    "2.2.1 Given the following commands, what will be included in the file `extracted.txt`:\n",
    "\n",
    "```bash\n",
    "$ head -n 3 dracula.txt > extracted.txt\n",
    "$ tail -n 2 dracula.txt >> extracted.txt\n",
    "```\n",
    "\n",
    "1. The first three lines of `dracula.txt`\n",
    "2. The last two lines of `dracula.txt`\n",
    "3. The first three lines and the last two lines of `dracula.txt`\n",
    "4. The second and third lines of `dracula.txt`"
   ]
  },
  {
   "cell_type": "markdown",
   "metadata": {},
   "source": [
    "### Piping commands \n",
    "\n",
    "In our current directory, we want to find the 3 files which have the least number of lines. \n",
    "\n",
    "2.3.1 Which command listed below would work?\n",
    "\n",
    "1. `wc -l * > sort -n > head -n 3`\n",
    "2. `wc -l * | sort -n | head -n 1-3`\n",
    "3. `wc -l * | head -n 3 | sort -n`\n",
    "4. `wc -l * | sort -n | head -n 3`"
   ]
  },
  {
   "cell_type": "markdown",
   "metadata": {},
   "source": [
    "### Why does `uniq` only remove adjacent duplicates? \n",
    "\n",
    "The command `uniq` removes adjacent duplicated lines from its input. Consider a hypothetical file `genres.txt` containing the following data:\n",
    "\n",
    "```text\n",
    "science fiction\n",
    "fantasy\n",
    "science fiction\n",
    "fantasy\n",
    "science fiction\n",
    "science fiction\n",
    "```\n",
    "\n",
    "Running the command `uniq genres.txt` produces:\n",
    "\n",
    "```text\n",
    "science fiction\n",
    "fantasy\n",
    "science fiction\n",
    "fantasy\n",
    "science fiction\n",
    "```\n",
    "\n",
    "2.4.1 Why do you think `uniq` only removes *adjacent* duplicated lines? (Hint: think about very large datasets.) \n",
    "\n",
    "2.4.2 What other command could you combine with it in a pipe to remove all duplicated lines?"
   ]
  },
  {
   "cell_type": "markdown",
   "metadata": {},
   "source": [
    "### Pipe reading comprehension \n",
    "\n",
    "A file called `titles.txt` contains a list of book titles and publication years:\n",
    "\n",
    "```text\n",
    "Dracula,1897\n",
    "Frankenstein,1818\n",
    "Jane Eyre,1847\n",
    "Moby Dick,1851\n",
    "Sense and Sensibility,1811\n",
    "The Adventures of Sherlock Holmes,1892\n",
    "The Invisible Man,1897\n",
    "The Time Machine,1895\n",
    "Wuthering Heights,1847\n",
    "```\n",
    "\n",
    "2.5.1 What text passes through each of the pipes and the final redirect in the pipeline below?\n",
    "\n",
    "```bash\n",
    "$ cat titles.txt | head -n 5 | tail -n 3 | sort -r > final.txt\n",
    "```\n",
    "\n",
    "Hint: build the pipeline up one command at a time to test your understanding\n"
   ]
  },
  {
   "cell_type": "markdown",
   "metadata": {},
   "source": [
    "### Pipe construction \n",
    "\n",
    "For the file `titles.txt` from the previous exercise, consider the following command:\n",
    "\n",
    "```bash\n",
    "$ cut -d , -f 2 titles.txt\n",
    "```\n",
    "\n",
    "2.6.1 What does the `cut` command (and its options) accomplish?\n",
    "\n",
    "### Which pipe? \n",
    "\n",
    "Consider the same `titles.txt` from the previous exercises.\n",
    "\n",
    "The `uniq` command has a `-c` option which gives a count of the number of times a line occurs in its input.\n",
    "\n",
    "2.6.2 If `titles.txt` was in your working directory, what command would you use to produce a table that shows the total count of each publication year in the file?\n",
    "\n",
    "1.  `sort titles.txt | uniq -c`\n",
    "2.  `sort -t, -k2,2 titles.txt | uniq -c`\n",
    "3.  `cut -d, -f 2 titles.txt | uniq -c`\n",
    "4.  `cut -d, -f 2 titles.txt | sort | uniq -c`\n",
    "5.  `cut -d, -f 2 titles.txt | sort | uniq -c | wc -l`"
   ]
  },
  {
   "cell_type": "markdown",
   "metadata": {},
   "source": [
    "### Doing a dry run \n",
    "\n",
    "A loop is a way to do many things at once---or to make many mistakes at once if it does the wrong thing. One way to check what a loop *would* do is to `echo` the commands it would run instead of actually running them.\n",
    "\n",
    "Suppose we want to preview the commands the following loop will execute without actually running those commands (`analyze` is a hypothetical command):\n",
    "\n",
    "```bash\n",
    "$ for file in *.txt\n",
    "> do\n",
    ">   analyze $file > analyzed-$file\n",
    "> done\n",
    "```\n",
    "\n",
    "2.7.1 What is the difference between the two loops below, and which one would we want to run?\n",
    "\n",
    "```bash\n",
    "$ for file in *.txt\n",
    "> do\n",
    ">   echo analyze $file > analyzed-$file\n",
    "> done\n",
    "```\n",
    "\n",
    "or:\n",
    "\n",
    "```bash\n",
    "$ for file in *.txt\n",
    "> do\n",
    ">   echo \"analyze $file > analyzed-$file\"\n",
    "> done\n",
    "```"
   ]
  },
  {
   "cell_type": "markdown",
   "metadata": {},
   "source": [
    "### Variables in loops\n",
    "\n",
    "2.8.1 Given the files in `data/`, what is the output of the following code?\n",
    "\n",
    "```bash\n",
    "$ for datafile in *.txt\n",
    "> do\n",
    ">    ls *.txt\n",
    "> done\n",
    "```\n",
    "\n",
    "2.8.2 Now, what is the output of the following code?\n",
    "\n",
    "```bash\n",
    "$ for datafile in *.txt\n",
    "> do\n",
    ">\tls $datafile\n",
    "> done\n",
    "```\n",
    "\n",
    "2.8.3 Why do these two loops give different outputs?"
   ]
  },
  {
   "cell_type": "markdown",
   "metadata": {},
   "source": [
    "### Limiting sets of files\n",
    "\n",
    "2.9.1 What would be the output of running the following loop in your `data/` directory?\n",
    "\n",
    "```bash\n",
    "$ for filename in d*\n",
    "> do\n",
    ">    ls $filename\n",
    "> done\n",
    "```\n",
    "\n",
    "2.9.2 How would the output differ from using this command instead?\n",
    "\n",
    "```bash\n",
    "$ for filename in *d*\n",
    "> do\n",
    ">    ls $filename\n",
    "> done\n",
    "```"
   ]
  },
  {
   "cell_type": "markdown",
   "metadata": {},
   "source": [
    "### Saving to a file in a loop \n",
    "\n",
    "Consider running the following loop in the  `data/` directory:\n",
    "\n",
    "```bash\n",
    "for book in *.txt\n",
    "> do\n",
    ">     echo $book\n",
    ">     head -n 16 $book > headers.txt\n",
    "> done\n",
    "```\n",
    "\n",
    "2.10.1 Why would the following loop be preferable?\n",
    "\n",
    "```bash\n",
    "for book in *.txt\n",
    "> do\n",
    ">     head -n 16 $book >> headers.txt\n",
    "> done\n",
    "```\n",
    "\n"
   ]
  },
  {
   "cell_type": "markdown",
   "metadata": {},
   "source": [
    "### Why does `history` record commands before running them?\n",
    "\n",
    "If you run the command:\n",
    "\n",
    "```bash\n",
    "$ history | tail -n 5 > recent.sh\n",
    "```\n",
    "\n",
    "2.11.1 The last command in the file is the `history` command itself, i.e., the shell has added `history` to the command log before actually running it. \n",
    "In fact, the shell *always* adds commands to the log\n",
    "before running them. Why do you think it does this?"
   ]
  },
  {
   "cell_type": "markdown",
   "metadata": {},
   "source": [
    "## 3. BASH Advanced"
   ]
  },
  {
   "cell_type": "markdown",
   "metadata": {},
   "source": [
    "### Cleaning up\n",
    "\n",
    "3.1.1 As we have gone through this chapter, we have created several files that we won't need again.\n",
    "We can clean them up with the following commands; briefly explain what each line does.\n",
    "\n",
    "```bash\n",
    "$ cd ~/zipf\n",
    "$ for file in $(find . -name \"*.bak\")\n",
    "> do\n",
    ">   rm $file\n",
    "> done\n",
    "$ rm bin/summarize_all_books.sh\n",
    "$ rm -r results\n",
    "```"
   ]
  },
  {
   "cell_type": "markdown",
   "metadata": {},
   "source": [
    "### Variables in shell scripts \n",
    "\n",
    "Imagine you have a shell script called `script.sh` that contains:\n",
    "\n",
    "```bash\n",
    "head -n $2 $1\n",
    "tail -n $3 $1\n",
    "```\n",
    "\n",
    "With this script in your `data` directory, you type the following command:\n",
    "\n",
    "```bash\n",
    "$ bash script.sh '*.txt' 1 1\n",
    "```\n",
    "\n",
    "3.2.1 Which of the following outputs would you expect to see?\n",
    "\n",
    "1. All of the lines between the first and the last lines of each file ending in `.txt`\n",
    "    in the `data` directory\n",
    "2. The first and the last line of each file ending in `.txt` in the `data` directory\n",
    "3. The first and the last line of each file in the `data` directory\n",
    "4. An error because of the quotes around `*.txt`\n"
   ]
  },
  {
   "cell_type": "markdown",
   "metadata": {},
   "source": [
    "### Find the longest file with a given extension \n",
    "\n",
    "3.３ Write a shell script called `longest.sh` that takes the name of a directory and a filename extension as its arguments, and prints out the name of the file with the most lines in that directory with that extension. For example:\n",
    "\n",
    "```bash\n",
    "$ bash longest.sh data/ txt\n",
    "```\n",
    "\n",
    "would print the name of the `.txt` file in `data` that has the most lines."
   ]
  },
  {
   "cell_type": "markdown",
   "metadata": {},
   "source": [
    "### Script reading comprehension \n",
    "\n",
    "3.4 For this question, consider your `data` directory once again.\n",
    "Explain what each of the following three scripts would do when run as `bash script1.sh *.txt`, `bash script2.sh *.txt`, and `bash script3.sh *.txt` respectively.\n",
    "\n",
    "```bash\n",
    "# script1.sh\n",
    "echo *.*\n",
    "```\n",
    "\n",
    "```bash\n",
    "# script2.sh\n",
    "for filename in $1 $2 $3\n",
    "  do\n",
    "    cat $filename\n",
    "  done\n",
    "```\n",
    "\n",
    "```bash\n",
    "# script3.sh\n",
    "echo $@.txt\n",
    "```\n",
    "\n",
    "(You may need to search online to find the meaning of `$@`.)"
   ]
  },
  {
   "cell_type": "markdown",
   "metadata": {},
   "source": [
    "### Using `grep`\n",
    "\n",
    "Assume the following text from *The Adventures of Sherlock Holmes* is contained in a file called `excerpt.txt`:\n",
    "\n",
    "```text\n",
    "To Sherlock Holmes she is always THE woman. I have seldom heard\n",
    "him mention her under any other name. In his eyes she eclipses\n",
    "and predominates the whole of her sex. It was not that he felt\n",
    "any emotion akin to love for Irene Adler.\n",
    "```\n",
    "\n",
    "3.5 Which of the following commands would provide the following output:\n",
    "\n",
    "```text\n",
    "and predominates the whole of her sex. It was not that he felt\n",
    "```\n",
    "\n",
    "1. `grep \"he\" excerpt.txt`\n",
    "2. `grep -E \"he\" excerpt.txt`\n",
    "3. `grep -w \"he\" excerpt.txt`\n",
    "4. `grep -i \"he\" excerpt.txt`\n"
   ]
  },
  {
   "cell_type": "markdown",
   "metadata": {},
   "source": [
    "### Tracking publication years\n",
    "\n",
    "In Exercise **TODO** ref(bash-tools-ex-pipe-construction) you examined code that extracted the publication year from a list of book titles.\n",
    "\n",
    "3.6 Write a shell script called `year.sh` that takes any number of filenames as command-line arguments, and uses a variation of the code you used earlier to print a list of the unique publication years appearing in each of those files separately.\n"
   ]
  },
  {
   "cell_type": "markdown",
   "metadata": {},
   "source": [
    "### Counting names \n",
    "\n",
    "You and your friend have just finished reading *Sense and Sensibility* and are now having an argument.\n",
    "Your friend thinks that the elder of the two Dashwood sisters, Elinor, was mentioned more frequently in the book, but you are certain it was the younger sister, Marianne.\n",
    "Luckily, `sense_and_sensibility.txt` contains the full text of the novel. \n",
    "\n",
    "3.7 Using a `for` loop, how would you tabulate the number of times each of the sisters is mentioned?\n",
    "\n",
    "Hint: one solution might employ the commands `grep` and `wc` and a `|`, while another might utilize `grep` options.\n",
    "There is often more than one way to solve a problem with the shell; people choose solutions based on readability, speed, and what commands they are most familiar with."
   ]
  },
  {
   "cell_type": "markdown",
   "metadata": {},
   "source": [
    "### Matching and subtracting\n",
    "\n",
    "Assume you are in the root directory of the `zipf` project.\n",
    "\n",
    "3.8 Which of the following commands will find all files in `data` whose names end in `e.txt`, but do *not* contain the word `machine`?\n",
    "\n",
    "1.  `find data -name '*e.txt' | grep -v machine`\n",
    "2.  `find data -name *e.txt | grep -v machine`\n",
    "3.  `grep -v \"machine\" $(find data -name '*e.txt')`\n",
    "4.  None of the above."
   ]
  },
  {
   "cell_type": "markdown",
   "metadata": {},
   "source": [
    "### `find` pipeline reading comprehension \n",
    "\n",
    "3.9 Write a short explanatory comment for the following shell script:\n",
    "\n",
    "```bash\n",
    "wc -l $(find . -name '*.dat') | sort -n\n",
    "```"
   ]
  },
  {
   "cell_type": "markdown",
   "metadata": {},
   "source": [
    "### Finding files with different properties \n",
    "\n",
    "The `find` command can be given criteria called \"tests\" to locate files with specific attributes, such as creation time, size, or ownership.\n",
    "\n",
    "3.10.1 Use `man find` to explore these, then write a single command using `-type`, `-mtime`, and `-user` to find all files in or below your Desktop directory that are owned by you and were modified in the last 24 hours.\n",
    "\n",
    "3.10.2 Explain why the value for `-mtime` needs to be negative."
   ]
  }
 ],
 "metadata": {
  "kernelspec": {
   "display_name": "Python 3",
   "language": "python",
   "name": "python3"
  },
  "language_info": {
   "codemirror_mode": {
    "name": "ipython",
    "version": 3
   },
   "file_extension": ".py",
   "mimetype": "text/x-python",
   "name": "python",
   "nbconvert_exporter": "python",
   "pygments_lexer": "ipython3",
   "version": "3.11.6"
  }
 },
 "nbformat": 4,
 "nbformat_minor": 2
}
