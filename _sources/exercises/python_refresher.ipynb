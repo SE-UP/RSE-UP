{
 "cells": [
  {
   "cell_type": "markdown",
   "metadata": {},
   "source": [
    "# Python Refresher "
   ]
  },
  {
   "cell_type": "markdown",
   "metadata": {},
   "source": [
    "This chapter contains a number of Python exercises that you can use as a refresher, and to check if your level of Python matches the expectations of the course.\n",
    "We highly recommend to do them before the first lecture. If you encounter any problems, please visit the labs in the first week, where sample solutions to these exercises will be discussed.\n"
   ]
  },
  {
   "cell_type": "markdown",
   "metadata": {},
   "source": [
    "## 1. Arithmetics\n",
    "\n",
    "Write a Python program that welcomes the user, asks for their name (string), weight in kg (integer) and height in m (float), computes the body mass index (BMI) from the information\n",
    "(weight/height$^2$) and finally displays a message to the user, saying something like: \n",
    "\n",
    "```Bash\n",
    "Hello Jim, your BMI is 23.4.\n",
    "```\n",
    "\n",
    "\n",
    "You can assume that the user enters correct values."
   ]
  },
  {
   "cell_type": "code",
   "execution_count": null,
   "metadata": {},
   "outputs": [],
   "source": [
    "# Your code"
   ]
  },
  {
   "cell_type": "markdown",
   "metadata": {},
   "source": [
    "## 2. Conditional Branching\n",
    "\n",
    "Extend the BMI calculation program from the previous exercise so that after informing the user about the calculated BMI, it also prints out if the BMI is within the range that is generally\n",
    "considered normal (between 18.5 and 25) or higher (above 25) or lower (below 18.5) than that. The output of the modified program should then be something like:\n",
    "\n",
    "```Bash\n",
    "Welcome to the BMI calculator.\n",
    "What is your name? John Doe\n",
    "What is your weight (in kg)? 78\n",
    "What is your height (in m)? 1.82\n",
    "Hello John Doe, your BMI is 23.5.\n",
    "Your BMI is normal.\n",
    "```"
   ]
  },
  {
   "cell_type": "code",
   "execution_count": null,
   "metadata": {},
   "outputs": [],
   "source": [
    "# Your code here"
   ]
  },
  {
   "cell_type": "markdown",
   "metadata": {},
   "source": [
    "## 3. While-Loops\n",
    "\n",
    "Write a simple number-guessing game in Python. It generates a random number between 1 and 100 and asks the user to guess it. If the number guessed is too small or too big, a hint is\n",
    "given and the user can try again, until they guess the correct number. The output of the program should be something like:\n",
    "\n",
    "```Bash\n",
    "Can you guess the number? 12\n",
    "You guessed too small!\n",
    "Try again: 23\n",
    "You guessed too big!\n",
    "Try again: 16\n",
    "Yes!\n",
    "```"
   ]
  },
  {
   "cell_type": "code",
   "execution_count": null,
   "metadata": {},
   "outputs": [],
   "source": [
    "# Your code here"
   ]
  },
  {
   "cell_type": "markdown",
   "metadata": {},
   "source": [
    "## 4. For-Loops, Text Processing\n",
    "\n",
    "Write a simple text analysis program that finds the (first) longest word in a text. It should work on any text, but you can use the \"lorem ipsum\" as an example:\n",
    "\n",
    "\n",
    ">text = \"Lorem ipsum dolor sit amet, consectetur adipiscing elit, sed do \\\n",
    ">eiusmod tempor incididunt ut labore et dolore magna aliqua. Ut enim ad \\\n",
    ">minim veniam, quis nostrud exercitation ullamco laboris nisi ut aliquip ex \\\n",
    ">ea commodo consequat. Duis aute irure dolor in reprehenderit in voluptate \\\n",
    ">velit esse cillum dolore eu fugiat nulla pariatur. Excepteur sint occaecat \\\n",
    ">cupidatat non proident, sunt in culpa qui officia deserunt mollit anim id \\\n",
    ">est laborum.\"\n",
    "\n",
    "To check if a character c is an alphabetic character, you can call the isalpha() function on it: `c.isalpha()`. It will return `True` or `False`.\n",
    "The output of your program should report the longest word and its length, like this:\n",
    "`The longest word in the text is \"reprehenderit\" (13 characters)`."
   ]
  },
  {
   "cell_type": "code",
   "execution_count": null,
   "metadata": {},
   "outputs": [],
   "source": [
    "# Your code Here"
   ]
  },
  {
   "cell_type": "markdown",
   "metadata": {},
   "source": [
    "## 5. Functions\n",
    "\n",
    "In our lifetimes (unless we happen to get veeery old) a leap year occurs every four years. But actually, the rule is a bit more involved: A year is a leap year if it is a multiple of 4, but not a\n",
    "multiple of 100, unless it is also a multiple of 400. For example, 1984 and 2000 were leap years, but 1900 and 1985 were not.\n",
    "\n",
    "Write a function `is_leap_year(year)` that tests if the year is a leap year. If so, the function should return `True`, and `False` otherwise. Implement the function using only one Boolean expression. You can use the code below to test your function:\n",
    "\n",
    "```Python\n",
    "tests = [1900, 1984, 1985, 2000, 2018]\n",
    "for test in tests:\n",
    "    if is_leap_year(test):\n",
    "        print(f”{test} is a leap year\")\n",
    "    else:\n",
    "        print(f”{test} is not a leap year\")\n",
    "```"
   ]
  },
  {
   "cell_type": "code",
   "execution_count": null,
   "metadata": {},
   "outputs": [],
   "source": [
    "# Your Code Here"
   ]
  },
  {
   "cell_type": "markdown",
   "metadata": {},
   "source": [
    "## 6. Dataframes, Pandas\n",
    "\n",
    "The file mcdonalds_menu.csv can be found in the gitUP repository under [/data_sets](https://gitup.uni-potsdam.de/se-up/rse_course/rse_course_materials/-/tree/main/data_sets).  Write a program that reads the content of the file into a dataframe, and displays simple descriptive statistics about the\n",
    "numerical values in the data frame. Then add some code to create a barplot that displays the number of items per category.\n",
    "The output should look something like:\n",
    "\n",
    "\n",
    "![Worksheet 1 Graph](../figures/worksheets/worksheet1-graph.png)"
   ]
  },
  {
   "cell_type": "code",
   "execution_count": null,
   "metadata": {},
   "outputs": [],
   "source": [
    "# Your Code Here\n",
    "#path to mcdonalds_menu.csv on binder and collab should be data_sets/mcdonalds_menu.csv"
   ]
  },
  {
   "cell_type": "markdown",
   "metadata": {},
   "source": [
    "## 7. Classes, Inheritance\n",
    "\n",
    "Define two classes `Person` and `Student` with the following characteristics: The base class `Person` provides a field `name` and a function `printInfo` to print information about\n",
    "the person (i.e., the name). The class `Student` is derived from `Person`. A Student is a Person that in addition has a university, a study program and a number of `creditpoints`. The class `Student` also has a `printInfo` function, which displays information about the university and program in addition to the student’s name. With the functions `setCreditPoints` and `getCreditPoints` the credit points of the student can be set and retrieved"
   ]
  },
  {
   "cell_type": "code",
   "execution_count": null,
   "metadata": {},
   "outputs": [],
   "source": [
    "# Your Code Here "
   ]
  }
 ],
 "metadata": {
  "language_info": {
   "name": "python"
  }
 },
 "nbformat": 4,
 "nbformat_minor": 2
}
