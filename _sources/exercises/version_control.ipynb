{
 "cells": [
  {
   "cell_type": "markdown",
   "metadata": {},
   "source": [
    "# Exercise Version Control"
   ]
  },
  {
   "cell_type": "markdown",
   "metadata": {},
   "source": [
    "\n",
    "## 1) Places to create Git repositories \n",
    "\n",
    "Along with information about the Zipf's Law project, Amira would also like to keep some notes on [Heaps' Law](https://en.wikipedia.org/wiki/Heaps%27_law).\n",
    "Despite her colleagues' concerns, Amira creates a `heaps-law` project inside her `zipf` project as follows:\n",
    "\n",
    "\n",
    "```bash\n",
    "$ cd ~/zipf\n",
    "$ mkdir heaps-law\n",
    "$ cd heaps-law\n",
    "$ git init heaps-law\n",
    "```\n",
    "\n",
    "Is the `git init` command that she runs inside the `heaps-law` subdirectory\n",
    "required for tracking files stored there?\n"
   ]
  },
  {
   "cell_type": "markdown",
   "metadata": {},
   "source": [
    "\n",
    "## 2) Removing before saving \n",
    "\n",
    "If you're working on an older version of Git,\n",
    "you may see an output from `git status` suggesting\n",
    "you can take files out of the staging area\n",
    "using `git rm --cached`.\n",
    "Try this out:\n",
    "\n",
    "1.  Create a new file in an initialized Git repository called `example.txt`.\n",
    "2.  Use `git add example.txt` to add this file.\n",
    "3.  Use `git status` to check that Git has noticed it.\n",
    "4.  Use `git rm --cached example.txt` to remove it from the list of things to be saved.\n",
    "\n",
    "What does `git status` now show?\n",
    "What (if anything) has happened to the file?"
   ]
  },
  {
   "cell_type": "markdown",
   "metadata": {},
   "source": [
    "\n",
    "## 3) Viewing changes \n",
    "\n",
    "Make a few changes to a file in a Git repository, then view those differences using both `git diff` and `git diff --word-diff`. \n",
    "Which output do you find easiest to understand?\n",
    "\n",
    "Note: If you performed this exercise in your Zipf's Law project, we recommend discarding (not committing) your changes made to a file."
   ]
  },
  {
   "cell_type": "markdown",
   "metadata": {},
   "source": [
    "\n",
    "## 4) Committing changes\n",
    "\n",
    "Which command(s) below would save changes to `myfile.txt` to a local Git repository?\n",
    "\n",
    "```bash\n",
    "# Option 1\n",
    "$ git commit -m \"Add recent changes\"\n",
    "```\n",
    "\n",
    "```bash\n",
    "# Option 2\n",
    "$ git init myfile.txt\n",
    "$ git commit -m \"Add recent changes\"\n",
    "```\n",
    "\n",
    "```bash\n",
    "# Option 3\n",
    "$ git add myfile.txt\n",
    "$ git commit -m \"Add recent changes\"\n",
    "   ```\n",
    "\n",
    "```bash\n",
    "# Option 4\n",
    "$ git commit -m myfile.txt \"Add recent changes\"\n",
    "```"
   ]
  },
  {
   "cell_type": "markdown",
   "metadata": {},
   "source": [
    "\n",
    "## 5) Write your biography \n",
    "\n",
    "1.  Create a new Git repository on your computer called `bio`.\n",
    "Make sure the directory containing this repository is outside your `zipf` project directory! \n",
    "2.  Write a three-line biography for yourself in a file called `me.txt` and commit your changes.\n",
    "3.  Modify one line and add a fourth line.\n",
    "4.  Display the differences between the file's original state and its updated state."
   ]
  },
  {
   "cell_type": "markdown",
   "metadata": {},
   "source": [
    "\n",
    "## 6) Workflow and history\n",
    "\n",
    "Assume you made the following changes in your `bio` repository.\n",
    "What is the output of the last command in the sequence below?\n",
    "\n",
    "```bash\n",
    "$ echo \"Sharing information about myself.\" > motivation.txt\n",
    "$ git add motivation.txt\n",
    "$ echo \"Documenting major milestones.\" > motivation.txt\n",
    "$ git commit -m \"Motivate project\"\n",
    "$ git restore motivation.txt\n",
    "$ cat motivation.txt\n",
    "```\n",
    "\n",
    "1. `Sharing information about myself.`\n",
    "\n",
    "2. `Documenting major milestones.`\n",
    "\n",
    "3. \n",
    "```text\n",
    "Sharing information about myself.\n",
    "Documenting major milestones.\n",
    "```\n",
    "\n",
    "4. An error message because we have changed `motivation.txt` without committing first."
   ]
  },
  {
   "cell_type": "markdown",
   "metadata": {},
   "source": [
    "## 7) Ignoring nested files \n",
    "\n",
    "Suppose our project has a directory `results` with two subdirectories called `data` and `plots`.\n",
    "How would we ignore all of the files in `results/plots`\n",
    "but not ignore files in `results/data`?"
   ]
  },
  {
   "cell_type": "markdown",
   "metadata": {},
   "source": [
    "## 8) Including specific files \n",
    "\n",
    "How would you ignore all `.dat` files in your root directory except for `final.dat`?\n",
    "(Hint: find out what the exclamation mark `!` means in a `.gitignore` file.)"
   ]
  },
  {
   "cell_type": "markdown",
   "metadata": {},
   "source": [
    "\n",
    "## 9) Exploring the GitHub interface \n",
    "\n",
    "Browse to your `zipf` repository on GitHub.\n",
    "Under the `Code` tab, find and click on the text that says \"NN commits\" (where \"NN\" is some number).\n",
    "Hover over and click on the three buttons to the right of each commit.\n",
    "\n",
    "What information can you gather/explore from these buttons?\n",
    "\n",
    "How would you get that same information in the shell?"
   ]
  },
  {
   "cell_type": "markdown",
   "metadata": {},
   "source": [
    "## 10) Push versus commit\n",
    "\n",
    "Explain in one or two sentences how `git push` is different from `git commit`."
   ]
  },
  {
   "cell_type": "markdown",
   "metadata": {},
   "source": [
    "\n",
    "## 11) License and README files \n",
    "\n",
    "When we initialized our remote `zipf` GitHub repo, we didn't add a `README.md` or license file.\n",
    "\n",
    "If we had, what would have happened when we tried to link our local and remote repositories?"
   ]
  },
  {
   "cell_type": "markdown",
   "metadata": {},
   "source": []
  },
  {
   "cell_type": "markdown",
   "metadata": {},
   "source": [
    "\n",
    "## 12) Recovering older versions of a file \n",
    "\n",
    "Amira made changes this morning to a shell script called `data_cruncher.sh`\n",
    "that she has been working on for weeks.\n",
    "Her changes broke the script, and she has now spent an hour trying to get it back in working order.\n",
    "Luckily, she has been keeping track of her project's versions using Git.\n",
    "\n",
    "Which of the commands below can she use to recover the last committed version of her script?\n",
    "\n",
    "1.  `$ git checkout HEAD`\n",
    "2.  `$ git checkout HEAD data_cruncher.sh`\n",
    "3.  `$ git checkout HEAD~1 data_cruncher.sh`\n",
    "4.  `$ git checkout <unique ID of last commit> data_cruncher.sh`\n",
    "5.  `$ git restore data_cruncher.sh`\n",
    "6.  `$ git restore HEAD`\n"
   ]
  },
  {
   "cell_type": "markdown",
   "metadata": {},
   "source": [
    "## 13) Understanding `git diff` \n",
    "\n",
    "Using your `zipf` project directory:\n",
    "\n",
    "1.  What would the command `git diff HEAD~9 bin/plotcounts.py` do if we run it?\n",
    "2.  What does it actually do?\n",
    "3.  What does `git diff HEAD bin/plotcounts.py` do?\n"
   ]
  },
  {
   "cell_type": "markdown",
   "metadata": {},
   "source": [
    "## 14) Getting rid of staged changes \n",
    "\n",
    "`git checkout` can be used to restore a previous commit when unstaged changes have been made,\n",
    "but will it also work for changes that have been staged but not committed?\n",
    "To find out,\n",
    "use your `zipf` project directory to:\n",
    "\n",
    "1.  Change `bin/plotcounts.py`.\n",
    "2.  Use `git add` on those changes to `bin/plotcounts.py`.\n",
    "3.  Use `git checkout` to see if you can remove your change.\n",
    "\n",
    "Does it work?"
   ]
  },
  {
   "cell_type": "markdown",
   "metadata": {},
   "source": [
    "## 15) Figuring out who did what \n",
    "\n",
    "We never committed the last edit that removes the calculation of inverse rank.\n",
    "Remove this line from `plotcounts.py`,\n",
    "then commit the change:\n",
    "\n",
    "```python\n",
    "df['inverse_rank'] = 1 / df['rank']\n",
    "```\n",
    "\n",
    "Run the command `git blame bin/plotcounts.py`.\n",
    "What does each line of the output show?"
   ]
  }
 ],
 "metadata": {
  "kernelspec": {
   "display_name": "Python 3",
   "language": "python",
   "name": "python3"
  },
  "language_info": {
   "codemirror_mode": {
    "name": "ipython",
    "version": 3
   },
   "file_extension": ".py",
   "mimetype": "text/x-python",
   "name": "python",
   "nbconvert_exporter": "python",
   "pygments_lexer": "ipython3",
   "version": "3.11.6"
  }
 },
 "nbformat": 4,
 "nbformat_minor": 2
}
