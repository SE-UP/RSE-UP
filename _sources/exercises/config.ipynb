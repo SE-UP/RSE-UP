{
 "cells": [
  {
   "cell_type": "markdown",
   "metadata": {},
   "source": [
    "# Exercises - Configuration\n"
   ]
  },
  {
   "cell_type": "markdown",
   "metadata": {},
   "source": [
    "\n",
    "## 1) Using different plot styles \n",
    "\n",
    "There are many pre-defined matplotlib styles as illustrated at the [Python Graph Gallery](https://python-graph-gallery.com/199-matplotlib-style-sheets/).\n",
    "\n",
    "1. Add a new option `--style` to `plotcount.py` that allows the user\n",
    "to pick a style from the list of pre-defined matplotlib styles.\n",
    "\n",
    "Hint: Use the `choices` parameter discussed in Section \\@ref(config-command-line)\n",
    "to define the valid choices for the new `--style` option.\n",
    "\n",
    "2. Re-generate the plot of the *Jane Eyre* word count distribution\n",
    "using a bunch of different styles to decide which you like best.\n",
    "\n",
    "3. Matplotlib style sheets are designed to be composed together.\n",
    "(See the [style sheets tutorial](https://matplotlib.org/tutorials/introductory/customizing.html) for details.)\n",
    "Use the `nargs` parameter to allow the user to pass any number of styles\n",
    "when using the `--style` option."
   ]
  },
  {
   "cell_type": "markdown",
   "metadata": {},
   "source": [
    "\n",
    "## 2) Saving configurations \n",
    "\n",
    "1. Add an option `--saveconfig filename` to `plotcounts.py`\n",
    "that writes all of its configuration to a file.\n",
    "Make sure this option saves *all* of the configuration,\n",
    "including any defaults that the user hasn't changed.\n",
    "\n",
    "2. Add a new target `test-saveconfig` to the `Makefile`\n",
    "created in Chapter \\@ref(automate) to test that the new option\n",
    "is working.\n",
    "\n",
    "3. How would this new `--saveconfig` option make your work more reproducible?"
   ]
  },
  {
   "cell_type": "markdown",
   "metadata": {},
   "source": [
    "\n",
    "## 3) Using INI syntax \n",
    "\n",
    "If we used [Windows INI format](https://en.wikipedia.org/wiki/INI_file) instead of YAML\n",
    "for our plot parameters configuration file\n",
    "(i.e., `plotparams.ini` instead of `plotparams.yml`)\n",
    "that file would read as follows:\n",
    "\n",
    "```ini\n",
    "[AXES]\n",
    "axes.labelsize=x-large\n",
    "\n",
    "[TICKS]\n",
    "xtick.labelsize=large\n",
    "ytick.labelsize=large\n",
    "```\n",
    "\n",
    "The [`configparser`](https://docs.python.org/3/library/configparser.html) library can be used to read and write INI files.\n",
    "Install that library by running `pip install configparser` at the command line.\n",
    "\n",
    "Using `configparser`, rewrite the `set_plot_params` function in `plotcounts.py` to\n",
    "handle a configuration file in INI rather than YAML format.\n",
    "\n",
    "1.  Which file format do you find easier to work with?\n",
    "2.  What other factors should influence your choice of a configuration file syntax?\n",
    "\n",
    "Note: the code modified in this exercise is not required for the rest of the book.\n"
   ]
  },
  {
   "cell_type": "markdown",
   "metadata": {},
   "source": [
    "\n",
    "## 4) Configuration consistency \n",
    "\n",
    "In order for a data processing pipeline to work correctly,\n",
    "some of the configuration parameters for Program A and Program B must be the same.\n",
    "However,\n",
    "the programs were written by different teams,\n",
    "and each has its own configuration file.\n",
    "What steps could you take to ensure the required consistency?"
   ]
  }
 ],
 "metadata": {
  "language_info": {
   "name": "python"
  }
 },
 "nbformat": 4,
 "nbformat_minor": 2
}
