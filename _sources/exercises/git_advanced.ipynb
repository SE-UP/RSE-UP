{
 "cells": [
  {
   "cell_type": "markdown",
   "metadata": {},
   "source": [
    "# Exercises Git Advanced"
   ]
  },
  {
   "cell_type": "markdown",
   "metadata": {},
   "source": [
    "\n",
    "## 1 Explaining options \n",
    "\n",
    "1.  What do the `--oneline` and `-n` options for `git log` do?\n",
    "2.  What other options does `git log` have that you would find useful?"
   ]
  },
  {
   "cell_type": "markdown",
   "metadata": {},
   "source": [
    "## 2) Modifying prompt \n",
    "\n",
    "Modify your shell prompt so that it shows the branch you are on\n",
    "when you are in a repository.\n"
   ]
  },
  {
   "cell_type": "markdown",
   "metadata": {},
   "source": [
    "## 3) Ignoring files \n",
    "\n",
    "GitHub maintains [a collection of `.gitignore` files][github-gitignore]\n",
    "for projects of various kinds.\n",
    "Look at the sample `.gitignore` file for Python:\n",
    "how many of the ignored files do you recognize?\n",
    "Where could you look for more information about them?"
   ]
  },
  {
   "cell_type": "markdown",
   "metadata": {},
   "source": [
    "## 4) Creating the same file twice \n",
    "\n",
    "Create a branch called `same`.\n",
    "In it, create a file called `same.txt` that contains your name and the date.\n",
    "\n",
    "Switch back to `master`.\n",
    "Check that `same.txt` does not exist,\n",
    "then create the same file with exactly the same contents.\n",
    "\n",
    "1.  What will `git diff master..same` show?\n",
    "    (Try to answer the question *before* running the command.)\n",
    "\n",
    "2.  What will `git merge same master` do?\n",
    "    (Try to answer the question *before* running the command.)\n"
   ]
  },
  {
   "cell_type": "markdown",
   "metadata": {},
   "source": [
    "## 5) Deleting a branch without merging \n",
    "\n",
    "Create a branch called `experiment`.\n",
    "In it, create a file called `experiment.txt` that contains your name and the date,\n",
    "then switch back to `master`.\n",
    "\n",
    "1.  What happens when you try to delete the `experiment` branch using `git branch -d experiment`?\n",
    "    Why?\n",
    "\n",
    "2.  What option can you give Git to delete the `experiment` branch?\n",
    "    Why should you be very careful using it?\n",
    "\n",
    "3.  What do you think will happen if you try to delete the branch you are currently on using this flag?"
   ]
  },
  {
   "cell_type": "markdown",
   "metadata": {},
   "source": [
    "## 6) Tracing changes \n",
    "\n",
    "Chartreuse and Fuchsia are collaborating on a project.\n",
    "Describe what is in each of the four repositories involved after each of the steps below.\n",
    "\n",
    "1.  Chartreuse creates a repository containing a `README.md` file on GitHub\n",
    "    and clones it to their desktop.\n",
    "2.  Fuchsia forks that repository on GitHub\n",
    "    and clones their copy to their desktop.\n",
    "3.  Fuchsia adds a file `fuchsia.txt` to the `master` branch of their desktop repository\n",
    "    and pushes that change to their repository on GitHub.\n",
    "4.  Fuchsia creates a pull request from the `master` branch of their repository on GitHub\n",
    "    to the `master` branch of Chartreuse's repository on GitHub.\n",
    "5.  Chartreuse does *not* merge Fuchsia's PR.\n",
    "    Instead,\n",
    "    they add a file `chartreuse.txt` to the `master` branch of their desktop repository\n",
    "    and push that change to their repository on GitHub.\n",
    "6.  Fuchsia adds a remote to their desktop repository called `upstream`\n",
    "    that points at Chartreuse's repository on GitHub\n",
    "    and runs `git pull upstream master`,\n",
    "    then merges any changes or conflicts.\n",
    "7.  Fuchsia pushes from the `master` branch of their desktop repository\n",
    "    to the `master` branch of their GitHub repository.\n",
    "8.  Chartreuse merges Fuchsia's pull request.\n",
    "9.  Chartreuse runs `git pull origin master` on the desktop.\n"
   ]
  },
  {
   "cell_type": "markdown",
   "metadata": {},
   "source": []
  }
 ],
 "metadata": {
  "language_info": {
   "name": "python"
  }
 },
 "nbformat": 4,
 "nbformat_minor": 2
}
