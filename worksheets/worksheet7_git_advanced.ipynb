{
 "cells": [
  {
   "cell_type": "markdown",
   "metadata": {},
   "source": [
    "# Worksheet 8 - Going further with Git\n",
    "\n",
    "This worksheet contains some exercises on advanced aspects of working with Git, and instructions of how form group for the second course project"
   ]
  },
  {
   "cell_type": "markdown",
   "metadata": {},
   "source": [
    "## Exercise: Going further with Git\n",
    "\n",
    "In the first part of the course and for the first project, knowing about the basic features of a Git-based workflow was sufficient. Now that we are going to start working on a group project soon, it is time to get familiar with further Git features, which support a complex development workflow with several contributors to the code base. As before, some of you might already know all this, and for some it might be new. To be ready to go for the second course project, you should be familiar with the following key concepts:\n",
    "\n",
    "- Use a branch-per-feature workflow to develop new features while leaving the master branch in working order.\n",
    "- `git branch` creates a new branch.\n",
    "- `git checkout` switches between branches.\n",
    "- `git merge` merges changes from another branch into the current branch.\n",
    "- Conflicts occur when files or parts of files are changed in different ways on different branches.\n",
    "- Version control systems do not allow people to overwrite changes silently; instead, they highlight conflicts that need to be resolved.\n",
    "- Forking a repository makes a copy of it on a server.\n",
    "- Cloning a repository with git clone creates a local copy of a remote repository.\n",
    "- Create a remote called upstream to point to the repository a fork was derived from.\n",
    "- Create pull requests to submit changes from your fork to the upstream repository\n",
    "\n",
    "\n",
    "\n",
    "If you cannot tick off all points (yet), please revisit the [Chapter Going Further with Git](https://software-engineering-group-up.github.io/RSE-UP/chapters/git_advanced.html), in particular go through the exercises [here](https://software-engineering-group-up.github.io/RSE-UP/exercises/git_advanced.html)"
   ]
  }
 ],
 "metadata": {
  "language_info": {
   "name": "python"
  }
 },
 "nbformat": 4,
 "nbformat_minor": 2
}
