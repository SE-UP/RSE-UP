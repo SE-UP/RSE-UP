{
 "cells": [
  {
   "cell_type": "markdown",
   "metadata": {},
   "source": [
    "# Worksheet 4 - Readable Code\n",
    "\n",
    "This worksheet an exercise on coding style and the next project assignment, which gets you to start coding."
   ]
  },
  {
   "cell_type": "markdown",
   "metadata": {},
   "source": [
    "## Exercise 1: Writing Readable Code\n",
    "\n",
    "Use the ugly.py file in the scripts folder (worksheets/scripts/). It contains a simple implementaEon of a\n",
    "number-guessing game in Python. It functions correctly, but the code is not in very good shape… Improve it"
   ]
  },
  {
   "cell_type": "markdown",
   "metadata": {},
   "source": [
    "1. Run a linter (e.g. pycodestyle) on the file and address the issues it reports. Repeat until it is happy. (See example below)\n",
    "2. Then conduct another review of the code yourself, suggest further improvements and refactorings, and implement them. Use the following checklist that covers the points\n",
    "discussed in the lecture:\n",
    "\n",
    "- Do not repeat values (replace value with name)\n",
    "- Do not repeat calculations in loops (hoist out)\n",
    "- Replace tests with flags to clarify repeated tests\n",
    "- Use in-place operators to avoid duplicating expression\n",
    "- Handle special cases first\n",
    "- Use functions to make code more comprehensible\n",
    "- Combine operations in functions\n",
    "- Replace code with data\n",
    "\n",
    "3. Linters and checklists are helpful, but do certainly not cover everything. What else would you do to improve the readability of the code?"
   ]
  },
  {
   "cell_type": "markdown",
   "metadata": {},
   "source": [
    "You may run in this Jupyternotebook the pycodestyle command to see what is wrong with the file, but fixes need to be applied localy on you machine and not on binder or colab."
   ]
  },
  {
   "cell_type": "code",
   "execution_count": null,
   "metadata": {},
   "outputs": [],
   "source": [
    "# RUN ME \n",
    "\n",
    "!pycodestyle scripts/ugly.py"
   ]
  }
 ],
 "metadata": {
  "kernelspec": {
   "display_name": "Python 3",
   "language": "python",
   "name": "python3"
  },
  "language_info": {
   "codemirror_mode": {
    "name": "ipython",
    "version": 3
   },
   "file_extension": ".py",
   "mimetype": "text/x-python",
   "name": "python",
   "nbconvert_exporter": "python",
   "pygments_lexer": "ipython3",
   "version": "3.11.6"
  }
 },
 "nbformat": 4,
 "nbformat_minor": 2
}
