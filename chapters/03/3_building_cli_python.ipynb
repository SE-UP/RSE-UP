{
 "cells": [
  {
   "cell_type": "markdown",
   "metadata": {},
   "source": [
    "# Building Command-Line Tools with Python \n",
    "\n",
    "> Multiple exclamation marks are a sure sign of a diseased mind.\n",
    ">\n",
    "> --- Terry Pratchett\n",
    "\n",
    "The [Jupyter Notebook](https://jupyter.org/), PyCharm, and other graphical interfaces\n",
    "are great for prototyping code and exploring data, but eventually we may need to apply our code to thousands of data files,\n",
    "run it with many different parameters, or combine it with other programs as part of a data analysis pipeline.\n",
    "The easiest way to do this is often to turn our code into a standalone program that can be run in the Unix shell\n",
    "just like other command-line tools {cite:p}`Tasc2017`.\n",
    "\n",
    "In this chapter we will develop some **command-line Python program** that handle input and output in the same way as other shell commands,\n",
    "can be controlled by several option flags, and provide useful information when things go wrong.\n",
    "The result will have more scaffolding than useful application code, but that scaffolding stays more or less the same as programs get larger.\n",
    "\n",
    "After the previous chapters, our Zipf's Law project should have the following files and directories:\n"
   ]
  },
  {
   "cell_type": "markdown",
   "metadata": {},
   "source": [
    "```text\n",
    "zipf/\n",
    "├── bin\n",
    "│   └── book_summary.sh\n",
    "└── data\n",
    "    ├── README.md\n",
    "    ├── dracula.txt\n",
    "    ├── frankenstein.txt\n",
    "    ├── jane_eyre.txt\n",
    "    ├── moby_dick.txt\n",
    "    ├── sense_and_sensibility.txt\n",
    "    ├── sherlock_holmes.txt\n",
    "    └── time_machine.txt\n",
    "```"
   ]
  },
  {
   "cell_type": "markdown",
   "metadata": {},
   "source": [
    "> **Python Style**\n",
    ">\n",
    "> When writing Python code there are many style choices to make.\n",
    "> How many spaces should I put between functions?\n",
    "> Should I use capital letters in variable names?\n",
    "> How should I order all the different elements of a Python script?\n",
    "> Fortunately,\n",
    "> there are well established conventions and guidelines\n",
    "> for good Python style.\n",
    "> We follow those guidelines throughout this book\n",
    "> and discuss them in detail in Appendix **TODO** \\@ref(style)."
   ]
  },
  {
   "cell_type": "markdown",
   "metadata": {},
   "source": [
    "## Programs and Modules \n",
    "\n",
    "To create a Python program that can run from the command line,\\index{Python!program vs.\\ module}\n",
    "the first thing we do is to add the following to the bottom of the file:"
   ]
  },
  {
   "cell_type": "code",
   "execution_count": null,
   "metadata": {},
   "outputs": [],
   "source": [
    "if __name__ == '__main__':"
   ]
  },
  {
   "cell_type": "markdown",
   "metadata": {},
   "source": [
    "This strange-looking check tells us whether the file is running as a standalone program or whether it is being imported as a module by some other program.\n",
    "When we import a Python file as a module in another program, the `__name__` variable is automatically set to the name of the file.\\index{\\_\\_name\\_\\_ variable (in Python)}\\index{Python!\\_\\_name\\_\\_ variable}\n",
    "When we run a Python file as a standalone program, on the other hand, `__name__` is always set to the special string `\"__main__\"`.\n",
    "To illustrate this, let's consider a script named `print_name.py` that prints the value of the `__name__` variable:"
   ]
  },
  {
   "cell_type": "code",
   "execution_count": 1,
   "metadata": {},
   "outputs": [
    {
     "name": "stdout",
     "output_type": "stream",
     "text": [
      "__main__\n"
     ]
    }
   ],
   "source": [
    "print(__name__)"
   ]
  },
  {
   "cell_type": "markdown",
   "metadata": {},
   "source": [
    "When we run this file directly, it will print `__main__`: \n",
    "\n",
    "```bash\n",
    "$ python print_name.py\n",
    "```\n",
    "\n",
    "```text\n",
    "__main__\n",
    "```\n",
    "\n",
    "But if we import `print_name.py` from another file or from the Python interpreter, it will print the name of the file, i.e., `print_name`.\n",
    "\n",
    "```bash\n",
    "$ python\n",
    "```\n",
    "\n",
    "```text\n",
    "Python 3.7.6 (default, Jan  8 2020, 13:42:34) \n",
    "[Clang 4.0.1 (tags/RELEASE_401/final)] :: \n",
    "Anaconda, Inc. on darwin\n",
    "Type \"help\", \"copyright\", \"credits\" or \"license\"\n",
    "for more information.\n",
    "```\n",
    "\n",
    "```python\n",
    ">>> import print_name\n",
    "```\n",
    "```text\n",
    "print_name\n",
    "```\n",
    "\n",
    "Checking the value of the variable `__name__` therefore tells us whether our file is the top-level program or not. If it is, we can handle command-line options, print help, or whatever else is appropriate;\n",
    "if it isn't, we should assume that some other code is doing this. \n",
    "\n",
    "We could put the main program code directly under the `if` statement like this:\n",
    "\n",
    "```python\n",
    "if __name__ == \"__main__\":\n",
    "    # code goes here\n",
    "```\n",
    "\n",
    "but that is considered poor practice, since it makes testing harder (Chapter **TODO** ref(testing)). Instead, we put the high-level logic in a function, then call that function if our file is being run directly:\n",
    "\n"
   ]
  },
  {
   "cell_type": "markdown",
   "metadata": {},
   "source": []
  },
  {
   "cell_type": "code",
   "execution_count": 9,
   "metadata": {},
   "outputs": [
    {
     "name": "stdout",
     "output_type": "stream",
     "text": [
      "Hello World!\n"
     ]
    }
   ],
   "source": [
    "def main():\n",
    "    print('Hello World!')\n",
    "\n",
    "if __name__ == '__main__':\n",
    "    main()"
   ]
  },
  {
   "cell_type": "markdown",
   "metadata": {},
   "source": [
    "This top-level function is usually called `main`, but we can use whatever name we want."
   ]
  },
  {
   "cell_type": "markdown",
   "metadata": {},
   "source": [
    "## Handling Command-Line Options \n",
    "\n",
    "The main function in a program usually starts by parsing any options the user gave on the command line.\n",
    "The most commonly used library for doing this in Python is [`argparse`](https://docs.python.org/3/library/argparse.html), which can handle options with or without arguments, convert arguments from strings to numbers or other types, display help, and many other things.\n",
    "\n",
    "The simplest way to explain how `argparse` works is by example. \n",
    "\n",
    "Let's create a short Python program called `script_template.py`:\n"
   ]
  },
  {
   "cell_type": "code",
   "execution_count": 14,
   "metadata": {},
   "outputs": [
    {
     "name": "stderr",
     "output_type": "stream",
     "text": [
      "usage: [-h] infile outfile\n",
      ": error: the following arguments are required: infile, outfile\n"
     ]
    },
    {
     "ename": "SystemExit",
     "evalue": "2",
     "output_type": "error",
     "traceback": [
      "An exception has occurred, use %tb to see the full traceback.\n",
      "\u001b[0;31mSystemExit\u001b[0m\u001b[0;31m:\u001b[0m 2\n"
     ]
    }
   ],
   "source": [
    "import argparse\n",
    "import sys; sys.argv=['']; del sys\n",
    "\n",
    "\n",
    "def main(args):\n",
    "    print('Input file:', args.infile)\n",
    "    print('Output file:', args.outfile)\n",
    "\n",
    "\n",
    "if __name__ == '__main__':\n",
    "    USAGE = 'Brief description of what the script does.'\n",
    "    parser = argparse.ArgumentParser(description=USAGE)\n",
    "    parser.add_argument('infile', type=str,\n",
    "                        help='Input file name')\n",
    "    parser.add_argument('outfile', type=str,\n",
    "                        help='Output file name')\n",
    "    args = parser.parse_args()\n",
    "    main(args)"
   ]
  },
  {
   "cell_type": "markdown",
   "metadata": {},
   "source": []
  },
  {
   "cell_type": "markdown",
   "metadata": {},
   "source": []
  },
  {
   "cell_type": "markdown",
   "metadata": {},
   "source": []
  },
  {
   "cell_type": "markdown",
   "metadata": {},
   "source": []
  },
  {
   "cell_type": "markdown",
   "metadata": {},
   "source": []
  },
  {
   "cell_type": "markdown",
   "metadata": {},
   "source": []
  },
  {
   "cell_type": "markdown",
   "metadata": {},
   "source": []
  }
 ],
 "metadata": {
  "kernelspec": {
   "display_name": "Python 3",
   "language": "python",
   "name": "python3"
  },
  "language_info": {
   "codemirror_mode": {
    "name": "ipython",
    "version": 3
   },
   "file_extension": ".py",
   "mimetype": "text/x-python",
   "name": "python",
   "nbconvert_exporter": "python",
   "pygments_lexer": "ipython3",
   "version": "3.11.6"
  }
 },
 "nbformat": 4,
 "nbformat_minor": 2
}
