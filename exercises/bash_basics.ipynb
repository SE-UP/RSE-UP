{
 "cells": [
  {
   "cell_type": "markdown",
   "metadata": {},
   "source": [
    "# Bash Basics Exercises\n",
    "\n",
    "These exercise should help you either reviewing or learning new shell commands. The exercises can be done localy on Linux, Mac or Windows 11 bash console. \n",
    "You can also open this Jupyter Notebook directly in Binder or google collab and do the exercises. In this case be aware that the system runs on Linux, which is important when using paths.  \n",
    "\n",
    "Linux and Mac use `/` instead of `\\` as an example. \n",
    "\n",
    "But first, we go through a quick explanation on how to use **BASH** in a Jupyter Notebook on a Linux or Mac system."
   ]
  },
  {
   "cell_type": "markdown",
   "metadata": {},
   "source": [
    "## Using Bash in Jupyter Notebook"
   ]
  },
  {
   "cell_type": "markdown",
   "metadata": {},
   "source": [
    "Depending on what system you use it is important to first figure out the current path on the file system, for that run the next cell. \n",
    "\n"
   ]
  },
  {
   "cell_type": "code",
   "execution_count": null,
   "metadata": {},
   "outputs": [],
   "source": [
    "%%bash\n",
    "pwd"
   ]
  },
  {
   "cell_type": "markdown",
   "metadata": {},
   "source": [
    "To run a single command you may add an exclamation mark to the front of the command. As seen as in the example below **!** is added to the command *echo*. \n",
    "After that just run the cell and it should give the output, in this case \"hello world\".  "
   ]
  },
  {
   "cell_type": "code",
   "execution_count": 1,
   "metadata": {},
   "outputs": [
    {
     "name": "stdout",
     "output_type": "stream",
     "text": [
      "hello world!\n"
     ]
    }
   ],
   "source": [
    "!echo \"hello world!\""
   ]
  },
  {
   "cell_type": "markdown",
   "metadata": {},
   "source": [
    "However, that won't work if for example you want to run multiple commands that talk to each other, since each command is executed in a separate process:"
   ]
  },
  {
   "cell_type": "code",
   "execution_count": 2,
   "metadata": {},
   "outputs": [
    {
     "name": "stdout",
     "output_type": "stream",
     "text": [
      "\n"
     ]
    }
   ],
   "source": [
    "!export RAND=42\n",
    "!echo $RAND "
   ]
  },
  {
   "cell_type": "markdown",
   "metadata": {},
   "source": [
    "Nothing is printed, since RAND was defined in a separate process which has already exited."
   ]
  },
  {
   "cell_type": "markdown",
   "metadata": {},
   "source": [
    "But, if your notebook code cell starts with **%%bash**, it's all executed as one script!"
   ]
  },
  {
   "cell_type": "code",
   "execution_count": 3,
   "metadata": {},
   "outputs": [
    {
     "name": "stdout",
     "output_type": "stream",
     "text": [
      "42\n"
     ]
    }
   ],
   "source": [
    "%%bash\n",
    "\n",
    "export RAND=42\n",
    "echo $RAND"
   ]
  },
  {
   "cell_type": "markdown",
   "metadata": {},
   "source": [
    "You can also pass Python variables into your Shell commands, and vise versa! "
   ]
  },
  {
   "cell_type": "code",
   "execution_count": 1,
   "metadata": {},
   "outputs": [
    {
     "name": "stdout",
     "output_type": "stream",
     "text": [
      "['.', '..', 'bash_advanced.ipynb', 'bash_basics.ipynb', 'bash_tools.ipynb', 'config.ipynb', 'error_handling.ipynb', 'git_advanced.ipynb', 'intro_make.ipynb', 'packaging.ipynb', 'provenance.ipynb', 'python_cli.ipynb', 'python_refresher.ipynb', 'snakemake.md', 'solutions', 'testing.ipynb', 'version_control.ipynb', 'work_teams.ipynb']\n"
     ]
    }
   ],
   "source": [
    "# You can also pass python variables into your shell commands, and vise versa!\n",
    "python_var = []\n",
    "\n",
    "output_of_ls_as_python_var = !ls -a\n",
    "print(output_of_ls_as_python_var)"
   ]
  },
  {
   "cell_type": "markdown",
   "metadata": {},
   "source": [
    "## Basic Exercises"
   ]
  },
  {
   "cell_type": "markdown",
   "metadata": {},
   "source": [
    "The exercises below involve creating and moving new files, as well as considering hypothetical files.\n",
    "Please note that if you create or move any files or directories in your Zipf's Law project, you may want to reorganize your files following the outline at the beginning of the next chapter.\n",
    "If you accidentally delete necessary files, you can start with a fresh copy of the data files by following the instructions in Section [Getting Started](https://software-engineering-group-up.github.io/RSE-UP/chapters/01/1_getting_started.html#downloading-the-data)."
   ]
  },
  {
   "cell_type": "markdown",
   "metadata": {},
   "source": [
    "### 1 Exploring more `ls` flags\n",
    "\n",
    "What does the command `ls` do when used with the `-l` option?\n",
    "\n",
    "What happens if you use two options at the same time, such as `ls -l -h`?"
   ]
  },
  {
   "cell_type": "markdown",
   "metadata": {},
   "source": [
    "### 2 Listing recursively and by time \n",
    "The command `ls -R` lists the contents of directories recursively, which means the subdirectories, sub-subdirectories, and so on at each level are listed.\n",
    "The command `ls -t` lists things by time of last change, with most recently changed files or directories first.\n",
    "\n",
    "In what order does `ls -R -t` display things? Hint: `ls -l` uses a long listing format to view timestamps."
   ]
  },
  {
   "cell_type": "markdown",
   "metadata": {},
   "source": [
    "### 3 Absolute and relative paths\n",
    "\n",
    "Starting from your current directory, which of the following commands could you use to navigate to your home directory,\n",
    "which is `/Users/*YOUR-USERNAME` or on Linux and Mac `/home/*YOUR-USERNAME*` ?"
   ]
  },
  {
   "cell_type": "markdown",
   "metadata": {},
   "source": [
    "1. `cd .`\n",
    "2. `cd /`\n",
    "3. `cd /home/amira`\n",
    "4. `cd ../..`\n",
    "5. `cd ~`\n",
    "6. `cd home`\n",
    "7. `cd ~/data/..`\n",
    "8. `cd`\n",
    "9. `cd ..`\n",
    "10. `cd ../.`"
   ]
  },
  {
   "cell_type": "markdown",
   "metadata": {},
   "source": [
    "### 4 Relative path resolution\n",
    "\n",
    "Using the filesystem shown below,\n",
    "if `pwd` displays `/Users/sami`, what will `ls -F ../backup` display?\n",
    "\n",
    "1.  `../backup: No such file or directory`\n",
    "2.  `final original revised`\n",
    "3.  `final/ original/ revised/`\n",
    "4.  `data/ analysis/ doc/`\n",
    "\n",
    "\n",
    "![Filesystem/exercise](../figures/bash-basics/exercise-filesystem.png)\n",
    "\n",
    "\n"
   ]
  },
  {
   "cell_type": "markdown",
   "metadata": {},
   "source": [
    "### 5 `ls` reading comprehension \n",
    "\n",
    "Using the filesystem shown above, if `pwd` displays `/Users/backup`, and `-r` tells `ls` to display things in reverse order, what command(s) will result in the following output:\n",
    "\n",
    "```bash\n",
    "doc/ data/ analysis/\n",
    "```\n",
    "\n",
    "1.  `ls pwd`\n",
    "2.  `ls -r -F`\n",
    "3.  `ls -r -F /Users/backup`"
   ]
  },
  {
   "cell_type": "markdown",
   "metadata": {},
   "source": [
    "### 6 Creating files a different way \n",
    "\n",
    "What happens when you execute `touch my_file.txt`?  (Hint: use `ls -l` to find information about the file)\n",
    "\n",
    "When might you want to create a file this way?"
   ]
  },
  {
   "cell_type": "markdown",
   "metadata": {},
   "source": [
    "### 7 Using `rm` safely \n",
    "\n",
    " What would happen if you executed `rm -i my_file.txt` on the file created in the previous exercise?\n",
    "\n",
    " Why would we want this protection when using `rm`?"
   ]
  },
  {
   "cell_type": "markdown",
   "metadata": {},
   "source": [
    "\n",
    "### 8 Moving to the current folder \n",
    "\n",
    "After running the following commands,\n",
    "Amira realizes that she put the (hypothetical) files `chapter1.txt` and `chapter2.txt` into the wrong folder:\n",
    "\n",
    "```bash\n",
    "$ ls -F\n",
    "```\n",
    "```text\n",
    "  data/  docs/\n",
    "```\n",
    "\n",
    "```bash\n",
    "$ ls -F data\n",
    "```\n",
    "```text\n",
    "README.md\t\t\tfrankenstein.txt\t\tsherlock_holmes.txt\n",
    "chapter1.txt\t\tjane_eyre.txt\t\t\ttime_machine.txt\n",
    "chapter2.txt\t\tmoby_dick.txt\n",
    "dracula.txt\t\t\tsense_and_sensibility.txt\n",
    "```\n",
    "\n",
    "```bash\n",
    "$ cd docs\n",
    "```\n",
    "\n",
    "Fill in the blanks to move these files to the current folder (i.e., the one she is currently in):\n",
    "\n",
    "```bash\n",
    "$ mv ___/chapter1.txt  ___/chapter2.txt ___\n",
    "```"
   ]
  },
  {
   "cell_type": "markdown",
   "metadata": {},
   "source": [
    "### 9 Renaming files \n",
    "\n",
    "Suppose that you created a plain-text file in your current directory to contain a list of the statistical tests you will need to do to analyze your data, and named it: `statstics.txt`\n",
    "\n",
    "After creating and saving this file you realize you misspelled the filename! You want to correct the mistake, which of the following commands could you use to do so?\n",
    "\n",
    "1. `cp statstics.txt statistics.txt`\n",
    "2. `mv statstics.txt statistics.txt`\n",
    "3. `mv statstics.txt .`\n",
    "4. `cp statstics.txt .`\n"
   ]
  },
  {
   "cell_type": "markdown",
   "metadata": {},
   "source": [
    "### 10 Moving and copying \n",
    "\n",
    "Assuming the following hypothetical files, what is the output of the closing `ls` command in the sequence shown below?\n",
    "\n",
    "```bash\n",
    "$ pwd\n",
    "```\n",
    "\n",
    "```text\n",
    "/Users/amira/data\n",
    "```\n",
    "\n",
    "```bash\n",
    "$ ls\n",
    "```\n",
    "\n",
    "```text\n",
    "books.dat\n",
    "```\n",
    "\n",
    "```bash\n",
    "$ mkdir doc\n",
    "$ mv books.dat doc/\n",
    "$ cp doc/books.dat ../books-saved.dat\n",
    "$ ls\n",
    "```\n",
    "\n",
    "1.   `books-saved.dat doc`\n",
    "2.   `doc`\n",
    "3.   `books.dat doc`\n",
    "4.   `books-saved.dat`"
   ]
  },
  {
   "cell_type": "markdown",
   "metadata": {},
   "source": [
    "### 11 Copy with multiple filenames \n",
    "\n",
    "This exercise explores how `cp` responds when attempting to copy multiple things.\n",
    "\n",
    "What does `cp` do when given several filenames followed by a directory name?\n",
    "\n",
    "```bash\n",
    "$ mkdir backup\n",
    "$ cp dracula.txt frankenstein.txt backup/\n",
    "```\n",
    "\n",
    "What does `cp` do when given three or more filenames?\n",
    "\n",
    "```bash\n",
    "$ cp dracula.txt frankenstein.txt jane_eyre.txt\n",
    "```\n"
   ]
  },
  {
   "cell_type": "markdown",
   "metadata": {},
   "source": [
    "### 12 List filenames matching a pattern\n",
    "\n",
    "When run in the `data` directory of your project directory, which `ls` command(s) will produce this output?\n",
    "\n",
    "`jane_eyre.txt   sense_and_sensibility.txt`\n",
    "\n",
    "1. `ls ??n*.txt`\n",
    "2. `ls *e_*.txt`\n",
    "3. `ls *n*.txt`\n",
    "4. `ls *n?e*.txt`"
   ]
  },
  {
   "cell_type": "markdown",
   "metadata": {},
   "source": [
    "### 13 Organizing directories and files \n",
    "\n",
    "Amira is working on a project and she sees that her files aren't very well organized:\n",
    "\n",
    "```bash\n",
    "$ ls -F\n",
    "```\n",
    "\n",
    "```text\n",
    "books.txt    data/    results/   titles.txt\n",
    "```\n",
    "\n",
    "The `books.txt` and `titles.txt` files contain output from her data analysis. \n",
    "\n",
    "What command(s) does she need to run to produce the output shown?\n",
    "\n",
    "```bash\n",
    "$ ls -F\n",
    "```\n",
    "\n",
    "```text\n",
    "data/   results/\n",
    "```\n",
    "\n",
    "```bash\n",
    "$ ls results\n",
    "```\n",
    "\n",
    "```text\n",
    "books.txt    titles.txt\n",
    "```"
   ]
  },
  {
   "cell_type": "markdown",
   "metadata": {},
   "source": [
    "### 14 Reproduce a directory structure \n",
    "\n",
    "You're starting a new analysis, and would like to duplicate the directory structure from your previous experiment so you can add new data.\n",
    "\n",
    "Assume that the previous experiment is in a folder called `2023-05-18`, which contains a `data` folder that in turn contains folders named `raw` and `processed` that contain data files.  The goal is to copy the folder structure of `2023-05-18/data` into a folder called `2023-05-20` so that your final directory structure looks like this:\n",
    "\n",
    "```bash\n",
    "\t2024-05-20/\n",
    "\t└── data\n",
    "\t    ├── processed\n",
    "\t    └── raw\n",
    "```\n",
    "Which of the following commands would achieve this objective?\n",
    "\n",
    "What would the other commands do?\n",
    "\n",
    "```bash\n",
    "# Set 1\n",
    "$ mkdir 2023-05-20\n",
    "$ mkdir 2023-05-20/data\n",
    "$ mkdir 2023-05-20/data/processed\n",
    "$ mkdir 2023-05-20/data/raw\n",
    "```\n",
    "\n",
    "```bash\n",
    "# Set 2\n",
    "$ mkdir 2023-05-20\n",
    "$ cd 2023-05-20\n",
    "$ mkdir data\n",
    "$ cd data\n",
    "$ mkdir raw processed\n",
    "```\n",
    "\n",
    "```bash\n",
    "# Set 3\n",
    "$ mkdir 2023-05-20/data/raw\n",
    "$ mkdir 2023-05-20/data/processed\n",
    "```\n",
    "\n",
    "```bash\n",
    "# Set 4\n",
    "$ mkdir 2023-05-20\n",
    "$ cd 2023-05-20\n",
    "$ mkdir data\n",
    "$ mkdir raw processed\n",
    "```"
   ]
  },
  {
   "cell_type": "markdown",
   "metadata": {},
   "source": [
    "### 15 Wildcard expressions \n",
    "\n",
    "Wildcard expressions can be very complex, but you can sometimes write them in ways that only use simple syntax, at the expense of being a bit more verbose.\n",
    "In your `data/` directory, the wildcard expression `[st]*.txt` matches all files beginning with `s` or `t` and ending with `.txt`. \n",
    "\n",
    "Imagine you forgot about this.\n",
    "\n",
    "1.  Can you match the same set of files with basic wildcard expressions\n",
    "    that do not use the `[]` syntax? *Hint*: You may need more than one\n",
    "    expression.\n",
    "\n",
    "2.  Under what circumstances would your new expression produce an error message\n",
    "    where the original one would not?"
   ]
  },
  {
   "cell_type": "markdown",
   "metadata": {},
   "source": [
    "### 16 Removing unneeded files\n",
    "\n",
    "Suppose you want to delete your processed data files, and only keep your raw files and processing script to save storage.\n",
    "The raw files end in `.txt` and the processed files end in `.csv`. \n",
    "\n",
    "Which of the following would remove all the processed data files, and *only* the processed data files?\n",
    "\n",
    "1. `rm ?.csv`\n",
    "2. `rm *.csv`\n",
    "3. `rm * .csv`\n",
    "4. `rm *.*`\n"
   ]
  },
  {
   "cell_type": "markdown",
   "metadata": {},
   "source": [
    "### 17 Other wildcards \n",
    "\n",
    "The shell provides several wildcards beyond the widely used `*`.\n",
    "\n",
    "To explore them, explain in plain language what (hypothetical) files the expression `novel-????-[ab]*.{txt,pdf}` matches and why."
   ]
  },
  {
   "cell_type": "markdown",
   "metadata": {},
   "source": [
    "### 18 Finding files with different properties \n",
    "\n",
    "The `find` command can be given criteria called \"tests\" to locate files with specific attributes, such as creation time, size, or ownership.\n",
    "\n",
    "Use `man find` to explore these, then write a single command using `-type`, `-mtime`, and `-user` to find all files in or below your Desktop directory that are owned by you and were modified in the last 24 hours.\n",
    "\n",
    "Explain why the value for `-mtime` needs to be negative."
   ]
  }
 ],
 "metadata": {
  "kernelspec": {
   "display_name": "Python 3",
   "language": "python",
   "name": "python3"
  },
  "language_info": {
   "codemirror_mode": {
    "name": "ipython",
    "version": 3
   },
   "file_extension": ".py",
   "mimetype": "text/x-python",
   "name": "python",
   "nbconvert_exporter": "python",
   "pygments_lexer": "ipython3",
   "version": "3.12.2"
  }
 },
 "nbformat": 4,
 "nbformat_minor": 2
}
