{
 "cells": [
  {
   "cell_type": "markdown",
   "metadata": {},
   "source": [
    "# Exercises - Provenance"
   ]
  },
  {
   "cell_type": "markdown",
   "metadata": {},
   "source": [
    "## 1) ORCID \n",
    "\n",
    "If you don't already have an **ORCID**, go to the website and register now.\n",
    "If you do have an ORCID, log in and make sure that your details and publication record are up-to-date."
   ]
  },
  {
   "cell_type": "markdown",
   "metadata": {},
   "source": [
    "## 2) A FAIR test \n",
    "An [online questionnaire](https://ardc.edu.au/resources/working-with-data/fair-data/fair-self-assessment-tool) for measuring the extent to which datasets are FAIR has been created by the Australian Research Data Commons.\n",
    "Fill in the questionnaire for a dataset you have published or that you use often."
   ]
  },
  {
   "cell_type": "markdown",
   "metadata": {},
   "source": [
    "## 3) Evaluate a project's data provenance \n",
    "\n",
    "*This exercise is modified from {cite:p}`Wick2016` and explores the dataset from {cite:p}`Meil2016`. Go to the dataset's page <http://doi.org/10.3886/E17507V2> and download the files.\n",
    "You will need to make an ICPSER account and agree to their data agreement before you can download.*\n",
    "\n",
    "Review the dataset's main page to get a sense of the study,\n",
    "then review the spreadsheet file and the coded response file.\n",
    "\n",
    "1.  Who are the participants of this study?\n",
    "2.  What types of data were collected and used for analysis?\n",
    "3.  Can you find information on the demographics of the interviewees?\n",
    "4.  This dataset is clearly in support of an article.\n",
    "    What information can you find about it, and can you find a link to it?"
   ]
  },
  {
   "cell_type": "markdown",
   "metadata": {},
   "source": [
    "## 4) Evaluate a project's code provenance \n",
    "\n",
    "The GitHub repository [`borstlab/reversephi_paper`](https://github.com/borstlab/reversephi_paper/) provides the code and data for the paper @Leon2017.\n",
    "Browse the repository and answer the following questions:\n",
    "\n",
    "1.  Where is the software environment described? What files would you need to re-create the software environment?\n",
    "2.  Where are the data processing steps described? How could you re-create the results included in the manuscript?\n",
    "3.  How are the scripts and data archived?\n",
    "    That is, where can you download the version of the code and data as it was when the manuscript was published?\n",
    "\n",
    "To get a feel for the different approaches to code provenance, repeat steps 1-3 with the following:\n",
    "\n",
    "* [The figshare page](https://doi.org/10.6084/m9.figshare.7575830) that accompanies the paper {cite:p}`Irvi2019`.\n",
    "\n",
    "* The GitHub repo [`blab/h3n2-reassortment`](https://github.com/blab/h3n2-reassortment) that accompanies the paper {cite:p}`Pott2019`."
   ]
  },
  {
   "cell_type": "markdown",
   "metadata": {},
   "source": [
    "## 5) Making permanent links \n",
    "\n",
    "The link to the UK Home Office's [accessibility guideline posters](https://ukhomeoffice.github.io/accessibility-posters/posters/accessibility-posters.pdf) might change in future.\n",
    "Use the [Wayback Machine](https://web.archive.org/) to find a link that is more likely to be usable in the long run."
   ]
  },
  {
   "cell_type": "markdown",
   "metadata": {},
   "source": [
    "## 6) Create an archive of your Zipf's analysis \n",
    "\n",
    "A slightly less permanent alternative to having a DOI for your analysis code\n",
    "is to provide a link to a GitHub release.\n",
    "Follow [the instructions on GitHub](https://docs.github.com/en/github/administering-a-repository/managing-releases-in-a-repository) to create a release for the current state of your `zipf/` project.\n",
    "\n",
    "Once you've created the release,\n",
    "[read about how to link to it](https://docs.github.com/en/github/administering-a-repository/linking-to-releases).\n",
    "What is the URL that allows direct download of the zip archive\n",
    "of your release?\n",
    "\n",
    "> **What about getting a DOI?**\n",
    ">\n",
    "> Creating a GitHub release is also a necessary step\n",
    "> to get a DOI through the Zenodo/GitHub integration\n",
    "> (Section \\@ref(provenance-code-scripts)).\n",
    "> We are stopping short of getting the DOI here,\n",
    "> since nobody reading this book needs to formally cite\n",
    "> or archive the example Zipf's Law software we've been developing. \n",
    "> Also, if every reader of the book generated a DOI,\n",
    "> we'd have many DOIs pointing to the same code!"
   ]
  },
  {
   "cell_type": "markdown",
   "metadata": {},
   "source": [
    "## 7) Publishing your code \n",
    "\n",
    "Think about a project that you're currently working on.\n",
    "\n",
    "How would you go about publishing the code associated with that project (i.e., the software description, analysis scripts, and data processing steps)?"
   ]
  }
 ],
 "metadata": {
  "language_info": {
   "name": "python"
  }
 },
 "nbformat": 4,
 "nbformat_minor": 2
}
