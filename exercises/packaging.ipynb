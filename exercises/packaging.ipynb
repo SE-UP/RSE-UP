{
 "cells": [
  {
   "cell_type": "markdown",
   "metadata": {},
   "source": [
    "# Exercises - Packaging"
   ]
  },
  {
   "cell_type": "markdown",
   "metadata": {},
   "source": [
    "## 1) Package metadata \n",
    "\n",
    "In a number of places on our TestPyPI webpage, it says that no project description was provided **TODO** (Figure \\@ref(fig:packaging-testpypi)). \n",
    "\n",
    "How could we edit our `setup.py` file to include a description?\n",
    "\n",
    "What other metadata would you add?\n",
    "\n",
    "Hint: The [`setup() args` documentation](https://packaging.python.org/guides/distributing-packages-using-setuptools/#setup-args) might be useful."
   ]
  },
  {
   "cell_type": "markdown",
   "metadata": {},
   "source": [
    "## 2) Separating requirements \n",
    "\n",
    "As well as `requirements_docs.txt`, developers often create a `requirements_dev.txt` file to list packages that are not needed by the package's users,\n",
    "but are required for its development and testing. \n",
    "Pull `pytest` out of `requirements.txt` and put it in a new `requirements_dev.txt` file."
   ]
  },
  {
   "cell_type": "markdown",
   "metadata": {},
   "source": [
    "## 3) Software review \n",
    "\n",
    "The [*Journal of Open Source Software*]( https://joss.theoj.org/) has a [checklist](https://joss.readthedocs.io/en/latest/review_checklist.html) that reviewers must follow when assessing a submitted software paper.\n",
    "Run through the checklist (skipping the criteria related to the software paper) and see how the Zipf's Law package would rate on each criteria."
   ]
  },
  {
   "cell_type": "markdown",
   "metadata": {},
   "source": [
    "## 4) Packaging quotations \n",
    "\n",
    "Each chapter in this book opens with a quote from the British author Terry Pratchett.\n",
    "This script `quotes.py` contains a function `random_quote` which prints a random Pratchett quote:\n",
    "\n",
    "```python\n",
    "import random\n",
    "\n",
    "\n",
    "quote_list = [\"It's still magic even if you know how it's done.\",\n",
    "              \"Everything starts somewhere, \"\\\n",
    "              \"though many physicists disagree.\",\n",
    "              \"Ninety percent of most magic merely consists \"\\\n",
    "              \"of knowing one extra fact.\",\n",
    "              \"Wisdom comes from experience. \"\\\n",
    "              \"Experience is often a result of lack of wisdom.\",\n",
    "              \"There isn't a way things should be. \"\\\n",
    "              \"There's just what happens, and what we do.\",\n",
    "              \"Multiple exclamation marks are a sure sign \"\\\n",
    "              \"of a diseased mind.\",\n",
    "              \"+++ Divide By Cucumber Error. \"\\\n",
    "              \"Please Reinstall Universe And Reboot +++\",\n",
    "              \"It's got three keyboards and a hundred extra \"\\\n",
    "              \"knobs, including twelve with ‘?' on them.\",\n",
    "             ]\n",
    "\n",
    "\n",
    "def random_quote():\n",
    "    \"\"\"Print a random Pratchett quote.\"\"\"\n",
    "    print(random.choice(quote_list))\n",
    "```\n",
    "\n",
    "Create a new `conda` development environment called `pratchett`\n",
    "and use `pip` to install a new package called `pratchett` into that environment.\n",
    "The package should contain `quotes.py`,\n",
    "and once the package has been installed the user should be able to run:\n",
    "\n",
    "```python\n",
    "from pratchett import quotes\n",
    "\n",
    "\n",
    "quotes.random_quote()\n",
    "```"
   ]
  }
 ],
 "metadata": {
  "language_info": {
   "name": "python"
  }
 },
 "nbformat": 4,
 "nbformat_minor": 2
}
