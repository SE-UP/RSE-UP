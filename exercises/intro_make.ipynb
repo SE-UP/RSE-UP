{
 "cells": [
  {
   "cell_type": "markdown",
   "metadata": {},
   "source": [
    "# Exercises - Make \n",
    "\n",
    "Our `Makefile` currently reads as follows:\n",
    "\n",
    "```makefile\n",
    ".PHONY: all clean help settings\n",
    "\n",
    "COUNT=bin/countwords.py\n",
    "COLLATE=bin/collate.py\n",
    "PLOT=bin/plotcounts.py\n",
    "DATA=$(wildcard data/*.txt)\n",
    "RESULTS=$(patsubst data/%.txt,results/%.csv,$(DATA))\n",
    "\n",
    "## all : regenerate all results.\n",
    "all : results/collated.png\n",
    "\n",
    "## results/collated.png: plot the collated results.\n",
    "results/collated.png : results/collated.csv\n",
    "\tpython $(PLOT) $< --outfile $@\n",
    "\n",
    "## results/collated.csv : collate all results.\n",
    "results/collated.csv : $(RESULTS) $(COLLATE)\n",
    "\t@mkdir -p results\n",
    "\tpython $(COLLATE) $(RESULTS) > $@\n",
    "\n",
    "## results/%.csv : regenerate result for any book.\n",
    "results/%.csv : data/%.txt $(COUNT)\n",
    "\tpython $(COUNT) $< > $@\n",
    "\n",
    "## clean : remove all generated files.\n",
    "clean :\n",
    "\trm $(RESULTS) results/collated.csv results/collated.png\n",
    "\n",
    "## settings : show variables' values.\n",
    "settings :\n",
    "\t@echo COUNT: $(COUNT)\n",
    "\t@echo DATA: $(DATA)\n",
    "\t@echo RESULTS: $(RESULTS)\n",
    "\t@echo COLLATE: $(COLLATE)\n",
    "\t@echo PLOT: $(PLOT)\n",
    "\n",
    "## help : show this message.\n",
    "help :\n",
    "\t@grep '^##' ./Makefile\n",
    "```\n",
    "\n",
    "A number of the exercises below ask you to make further edits to `Makefile`.\n"
   ]
  },
  {
   "cell_type": "markdown",
   "metadata": {},
   "source": [
    "\n",
    "## 1) Report results that would change \n",
    "\n",
    "How can you get `make` to show the commands it would run\n",
    "without actually running them?\n",
    "(Hint: look at the manual page.)"
   ]
  },
  {
   "cell_type": "markdown",
   "metadata": {},
   "source": [
    "\n",
    "## 2) Useful options \n",
    "\n",
    "1.  What does Make's `-B` option do and when is it useful?\n",
    "1.  What about the `-C` option?\n",
    "1.  What about the `-f` option?"
   ]
  },
  {
   "cell_type": "markdown",
   "metadata": {},
   "source": [
    "\n",
    "## 3) Make sure the output directory exists \n",
    "\n",
    "One of our **build recipes** includes `mkdir -p`.\n",
    "What does this do and why is it useful?"
   ]
  },
  {
   "cell_type": "markdown",
   "metadata": {},
   "source": [
    "## 4) Print the title and author \n",
    "\n",
    "The build rule for regenerating the result for any book is currently:\n",
    "```makefile\n",
    "## results/%.csv : regenerate result for any book.\n",
    "results/%.csv : data/%.txt $(COUNT)\n",
    "\tpython $(COUNT) $< > $@\n",
    "```\n",
    "\n",
    "Add an extra line to the recipe that uses the `book_summary.sh` script\n",
    "to print the title and author of the book to the screen.\n",
    "Use `@bash` so that the command itself isn't printed to the screen\n",
    "and don't forget to update the settings build rule to include the `book_summary.sh` script.\n",
    "\n",
    "If you've successfully made those changes,\n",
    "you should get the following output for *Dracula*:\n",
    "\n",
    "```bash\n",
    "$ make -B results/dracula.csv\n",
    "```\n",
    "\n",
    "```text\n",
    "Title: Dracula\n",
    "Author: Bram Stoker\n",
    "python bin/countwords.py data/dracula.txt > results/dracula.csv\n",
    "```"
   ]
  },
  {
   "cell_type": "markdown",
   "metadata": {},
   "source": [
    "\n",
    "## 5) Create all results \n",
    "\n",
    "The default target of our final `Makefile` re-creates `results/collated.csv`.\n",
    "Add a target to `Makefile`\n",
    "so that `make results` creates or updates any result files that are missing or out of date,\n",
    "but does *not* regenerate `results/collated.csv`.\n"
   ]
  },
  {
   "cell_type": "markdown",
   "metadata": {},
   "source": [
    "\n",
    "## 6) The perils of shell wildcards \n",
    "\n",
    "What is wrong with writing the rule for `results/collated.csv` like this:\n",
    "\n",
    "```makefile\n",
    "results/collated.csv : results/*.csv\n",
    "\tpython $(COLLATE) $^ > $@\n",
    "```\n",
    "\n",
    "(The fact that the result no longer depends on the program used to create it\n",
    "isn't the biggest problem.)"
   ]
  },
  {
   "cell_type": "markdown",
   "metadata": {},
   "source": [
    "\n",
    "## 7) Making documentation more readable \n",
    "\n",
    "We can format the documentation in our Makefile more readably using this command:\n",
    "\n",
    "```makefile\n",
    "## help : show all commands.\n",
    "help :\n",
    "\t@grep -h -E '^##' ${MAKEFILE_LIST} | sed -e 's/## //g' \\\n",
    "\t| column -t -s ':'\n",
    "```\n",
    "\n",
    "Using `man` and online search,\n",
    "explain what every part of this recipe does.\n"
   ]
  },
  {
   "cell_type": "markdown",
   "metadata": {},
   "source": [
    "\n",
    "## 8) Configuration \n",
    "\n",
    "A next step in automating this analysis might include \n",
    "moving the definitions of the `COUNT`, `COLLATE`, and `PLOT` variables\n",
    "into a separate file called `config.mk`:\n",
    "\n",
    "```makefile\n",
    "COUNT=bin/countwords.py\n",
    "COLLATE=bin/collate.py\n",
    "PLOT=bin/plotcounts.py\n",
    "```\n",
    "\n",
    "and using the `include` command to access those definitions in the existing `Makefile`:\n",
    "\n",
    "```makefile\n",
    ".PHONY: results all clean help settings\n",
    "\n",
    "include config.mk\n",
    "\n",
    "# ... the rest of the Makefile ...\n",
    "```\n",
    "\n",
    "Under what circumstances would this strategy be useful?\n"
   ]
  }
 ],
 "metadata": {
  "language_info": {
   "name": "python"
  }
 },
 "nbformat": 4,
 "nbformat_minor": 2
}
