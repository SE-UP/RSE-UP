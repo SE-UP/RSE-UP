{
 "cells": [
  {
   "cell_type": "markdown",
   "metadata": {},
   "source": [
    "# Exercises Scripting Python for CLI tools\n",
    "\n",
    "These exercise should help you either reviewing or learning new shell commands. The exercises can be done localy on Linux, Mac or Windows 11 bash console. \n",
    "You can also open this JupyterNotebook directly in Binder or google collab and do the exercises. In this case be aware that the system runs on linux, which is important when using paths.  \n",
    "Linux and mac use `/` instead of `\\` as an example. "
   ]
  },
  {
   "cell_type": "markdown",
   "metadata": {},
   "source": [
    "\n",
    "## Running Python statements from the command line \n",
    "\n",
    "We don't need to open the interactive interpreter to run Python code. \n",
    "Instead, we can invoke Python with the command flag `-c` and the statement we want to run:"
   ]
  },
  {
   "cell_type": "code",
   "execution_count": 1,
   "metadata": {},
   "outputs": [
    {
     "name": "stdout",
     "output_type": "stream",
     "text": [
      "5\n"
     ]
    }
   ],
   "source": [
    "%%bash \n",
    "python -c \"print(2+3)\""
   ]
  },
  {
   "cell_type": "markdown",
   "metadata": {},
   "source": [
    "When and why is this useful?\n",
    "\n",
    "## Listing files\n",
    "\n",
    "A Python library called [glob](https://docs.python.org/3/library/glob.html) can be used to create a list of files matching a pattern, much like the `ls` shell command.\n",
    "\n",
    "```bash\n",
    "$ python\n",
    "```\n",
    "```text\n",
    "Python 3.7.6 (default, Jan  8 2020, 13:42:34) \n",
    "[Clang 4.0.1 (tags/RELEASE_401/final)] :: \n",
    "Anaconda, Inc. on darwin\n",
    "Type \"help\", \"copyright\", \"credits\" or \"license\"\n",
    "for more information.\n",
    "```\n",
    "\n",
    "***NOTE: run this locally, not possible to enter python shell in a jupyter notebook cell***"
   ]
  },
  {
   "cell_type": "code",
   "execution_count": 2,
   "metadata": {},
   "outputs": [
    {
     "data": {
      "text/plain": [
       "['zipf/data/dracula.txt',\n",
       " 'zipf/data/frankenstein.txt',\n",
       " 'zipf/data/jane_eyre.txt',\n",
       " 'zipf/data/moby_dick.txt',\n",
       " 'zipf/data/sense_and_sensibility.txt',\n",
       " 'zipf/data/sherlock_holmes.txt',\n",
       " 'zipf/data/time_machine.txt']"
      ]
     },
     "execution_count": 2,
     "metadata": {},
     "output_type": "execute_result"
    }
   ],
   "source": [
    "import glob\n",
    "glob.glob('zipf/data/*.txt')"
   ]
  },
  {
   "cell_type": "markdown",
   "metadata": {},
   "source": [
    "\n",
    "Using `script_template.py` as a guide, write a new script called `my_ls.py` that takes as input a directory and a suffix (e.g., py, txt, md, sh) and outputs a list of the files (sorted alphabetically) in that directory ending in that suffix.\n",
    "\n",
    "The help information for the new script should read as follows:\n",
    "\n",
    "\n",
    "```bash\n",
    "$ python bin/my_ls.py -h\n",
    "```\n",
    "\n",
    "```text\n",
    "usage: my_ls.py [-h] dir suffix\n",
    "\n",
    "List the files in a given directory with a given suffix.\n",
    "\n",
    "positional arguments:\n",
    "  dir         Directory\n",
    "  suffix      File suffix (e.g. py, sh)\n",
    "\n",
    "optional arguments:\n",
    "  -h, --help  show this help message and exit\n",
    "```\n",
    "\n",
    "and an example of the output would be:\n",
    "\n",
    "```bash\n",
    "$ python bin/my_ls.py data/ txt\n",
    "```\n",
    "\n",
    "```text\n",
    "data/dracula.txt\n",
    "data/frankenstein.txt\n",
    "data/jane_eyre.txt\n",
    "data/moby_dick.txt\n",
    "data/sense_and_sensibility.txt\n",
    "data/sherlock_holmes.txt\n",
    "data/time_machine.txt\n",
    "```\n",
    "\n",
    "***NOTE: we will not be including this script in subsequent chapters.***"
   ]
  },
  {
   "cell_type": "markdown",
   "metadata": {},
   "source": [
    "## Sentence ending punctuation\n",
    "\n",
    "Our `countwords.py` script strips the punctuation from a text, which means it provides no information on sentence endings. \n",
    "Using `script_template.py` and `countwords.py` as a guide, write a new script called `sentence_endings.py` that counts the occurrence of full stops, question marks and exclamation points and prints that information to the screen.\n",
    "\n",
    "Hint: String objects have a `count` method:"
   ]
  },
  {
   "cell_type": "code",
   "execution_count": 5,
   "metadata": {},
   "outputs": [
    {
     "data": {
      "text/plain": [
       "1"
      ]
     },
     "execution_count": 5,
     "metadata": {},
     "output_type": "execute_result"
    }
   ],
   "source": [
    "\"Hello! Are you ok?\".count('!')"
   ]
  },
  {
   "cell_type": "markdown",
   "metadata": {},
   "source": [
    " \n",
    "When you're done, the script should be able to accept an input file:\n",
    "\n",
    "```bash\n",
    "$ python bin/sentence_endings.py data/dracula.txt\n",
    "```\n",
    "\n",
    "```text\n",
    "Number of . is 8505\n",
    "Number of ? is 492\n",
    "Number of ! is 752\n",
    "```\n",
    "\n",
    "or standard input:\n",
    "\n",
    "```bash\n",
    "$ head -n 500 data/dracula.txt | python bin/sentence_endings.py\n",
    "```\n",
    "\n",
    "```text\n",
    "Number of . is 148\n",
    "Number of ? is 8\n",
    "Number of ! is 8\n",
    "```\n",
    "\n",
    "***NOTE: we will not be including this script in subsequent chapters.***"
   ]
  },
  {
   "cell_type": "markdown",
   "metadata": {},
   "source": [
    "\n",
    "## A better plotting program\n",
    "Using `script_template.py` as a guide, take the plotting code from Section **TODO** ref(scripting-plotting) and write a new Python program called `plotcounts.py`.\n",
    "The script should do the following: \n",
    "\n",
    "1. Use the `type=argparse.FileType('r')`, `nargs='?'` and `default='-'` options\n",
    "   for the input file argument (i.e., similar to the `countwords.py` script)\n",
    "   so that `plotcounts.py` uses standard input if no CSV file is given.\n",
    "\n",
    "2. Include an optional `--outfile` argument for the name of the output image file.\n",
    "   The default value should be `plotcounts.png`.\n",
    "\n",
    "3. Include an optional `--xlim` argument so that the user can change the x-axis bounds.\n",
    "\n",
    "When you are done, generate a plot for *Jane Eyre* by passing the word counts to `plotcounts.py`\n",
    "via a CSV file:\n",
    "\n",
    "```bash\n",
    "$ python bin/plotcounts.py results/jane_eyre.csv\n",
    "  --outfile results/jane_eyre.png\n",
    "```\n",
    "\n",
    "and by standard input:\n",
    "\n",
    "```bash\n",
    "$ python bin/countwords.py data/jane_eyre.txt | python\n",
    "  bin/plotcounts.py --outfile results/jane_eyre.png\n",
    "```\n",
    "\n",
    "***NOTE: the solution to this exercise is used in following chapters.***"
   ]
  }
 ],
 "metadata": {
  "kernelspec": {
   "display_name": "Python 3",
   "language": "python",
   "name": "python3"
  },
  "language_info": {
   "codemirror_mode": {
    "name": "ipython",
    "version": 3
   },
   "file_extension": ".py",
   "mimetype": "text/x-python",
   "name": "python",
   "nbconvert_exporter": "python",
   "pygments_lexer": "ipython3",
   "version": "3.11.6"
  }
 },
 "nbformat": 4,
 "nbformat_minor": 2
}
