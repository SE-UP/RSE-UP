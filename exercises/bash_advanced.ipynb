{
 "cells": [
  {
   "cell_type": "markdown",
   "metadata": {},
   "source": [
    "# Bash Advanced Exercises"
   ]
  },
  {
   "cell_type": "markdown",
   "metadata": {},
   "source": [
    "### 1 Cleaning up\n",
    "\n",
    "As we have gone through this chapter, we have created several files that we won't need again.\n",
    "We can clean them up with the following commands; briefly explain what each line does.\n",
    "\n",
    "```bash\n",
    "$ cd ~/zipf\n",
    "$ for file in $(find . -name \"*.bak\")\n",
    "> do\n",
    ">   rm $file\n",
    "> done\n",
    "$ rm bin/summarize_all_books.sh\n",
    "$ rm -r results\n",
    "```"
   ]
  },
  {
   "cell_type": "markdown",
   "metadata": {},
   "source": [
    "## 2 Variables in shell scripts \n",
    "\n",
    "Imagine you have a shell script called `script.sh` that contains:\n",
    "\n",
    "```bash\n",
    "head -n $2 $1\n",
    "tail -n $3 $1\n",
    "```\n",
    "\n",
    "With this script in your `data` directory, you type the following command:\n",
    "\n",
    "```bash\n",
    "$ bash script.sh '*.txt' 1 1\n",
    "```\n",
    "\n",
    "Which of the following outputs would you expect to see?\n",
    "\n",
    "1. All of the lines between the first and the last lines of each file ending in `.txt`\n",
    "    in the `data` directory\n",
    "2. The first and the last line of each file ending in `.txt` in the `data` directory\n",
    "3. The first and the last line of each file in the `data` directory\n",
    "4. An error because of the quotes around `*.txt`\n"
   ]
  },
  {
   "cell_type": "markdown",
   "metadata": {},
   "source": [
    "## 3 Find the longest file with a given extension \n",
    "\n",
    "Write a shell script called `longest.sh` that takes the name of a directory and a filename extension as its arguments, and prints out the name of the file with the most lines in that directory with that extension. For example:\n",
    "\n",
    "```bash\n",
    "$ bash longest.sh data/ txt\n",
    "```\n",
    "\n",
    "would print the name of the `.txt` file in `data` that has the most lines."
   ]
  },
  {
   "cell_type": "markdown",
   "metadata": {},
   "source": [
    "## 4 Script reading comprehension \n",
    "\n",
    "For this question, consider your `data` directory once again.\n",
    "Explain what each of the following three scripts would do when run as `bash script1.sh *.txt`, `bash script2.sh *.txt`, and `bash script3.sh *.txt` respectively.\n",
    "\n",
    "```bash\n",
    "# script1.sh\n",
    "echo *.*\n",
    "```\n",
    "\n",
    "```bash\n",
    "# script2.sh\n",
    "for filename in $1 $2 $3\n",
    "  do\n",
    "    cat $filename\n",
    "  done\n",
    "```\n",
    "\n",
    "```bash\n",
    "# script3.sh\n",
    "echo $@.txt\n",
    "```\n",
    "\n",
    "(You may need to search online to find the meaning of `$@`.)"
   ]
  },
  {
   "cell_type": "markdown",
   "metadata": {},
   "source": [
    "## 5 Using `grep`\n",
    "\n",
    "Assume the following text from *The Adventures of Sherlock Holmes* is contained in a file called `excerpt.txt`:\n",
    "\n",
    "```text\n",
    "To Sherlock Holmes she is always THE woman. I have seldom heard\n",
    "him mention her under any other name. In his eyes she eclipses\n",
    "and predominates the whole of her sex. It was not that he felt\n",
    "any emotion akin to love for Irene Adler.\n",
    "```\n",
    "\n",
    "Which of the following commands would provide the following output:\n",
    "\n",
    "```text\n",
    "and predominates the whole of her sex. It was not that he felt\n",
    "```\n",
    "\n",
    "1. `grep \"he\" excerpt.txt`\n",
    "2. `grep -E \"he\" excerpt.txt`\n",
    "3. `grep -w \"he\" excerpt.txt`\n",
    "4. `grep -i \"he\" excerpt.txt`\n"
   ]
  },
  {
   "cell_type": "markdown",
   "metadata": {},
   "source": [
    "## 6 Tracking publication years\n",
    "\n",
    "In Exercise [bash - pipe commands](https://software-engineering-group-up.github.io/RSE-UP/exercises/bash_tools.html#3-piping-commands) you examined code that extracted the publication year from a list of book titles.\n",
    "\n",
    "Write a shell script called `year.sh` that takes any number of filenames as command-line arguments, and uses a variation of the code you used earlier to print a list of the unique publication years appearing in each of those files separately.\n"
   ]
  },
  {
   "cell_type": "markdown",
   "metadata": {},
   "source": [
    "## 7 Counting names \n",
    "\n",
    "You and your friend have just finished reading *Sense and Sensibility* and are now having an argument.\n",
    "Your friend thinks that the elder of the two Dashwood sisters, Elinor, was mentioned more frequently in the book, but you are certain it was the younger sister, Marianne.\n",
    "Luckily, `sense_and_sensibility.txt` contains the full text of the novel. \n",
    "\n",
    "Using a `for` loop, how would you tabulate the number of times each of the sisters is mentioned?\n",
    "\n",
    "Hint: one solution might employ the commands `grep` and `wc` and a `|`, while another might utilize `grep` options.\n",
    "There is often more than one way to solve a problem with the shell; people choose solutions based on readability, speed, and what commands they are most familiar with."
   ]
  },
  {
   "cell_type": "markdown",
   "metadata": {},
   "source": [
    "## 8 Matching and subtracting\n",
    "\n",
    "Assume you are in the root directory of the `zipf` project.\n",
    "\n",
    "Which of the following commands will find all files in `data` whose names end in `e.txt`, but do *not* contain the word `machine`?\n",
    "\n",
    "1.  `find data -name '*e.txt' | grep -v machine`\n",
    "2.  `find data -name *e.txt | grep -v machine`\n",
    "3.  `grep -v \"machine\" $(find data -name '*e.txt')`\n",
    "4.  None of the above."
   ]
  },
  {
   "cell_type": "markdown",
   "metadata": {},
   "source": [
    "## 9 `find` pipeline reading comprehension \n",
    "\n",
    "Write a short explanatory comment for the following shell script:\n",
    "\n",
    "```bash\n",
    "wc -l $(find . -name '*.dat') | sort -n\n",
    "```"
   ]
  },
  {
   "cell_type": "markdown",
   "metadata": {},
   "source": [
    "## 10 Finding files with different properties \n",
    "\n",
    "The `find` command can be given criteria called \"tests\" to locate files with specific attributes, such as creation time, size, or ownership.\n",
    "\n",
    "Use `man find` to explore these, then write a single command using `-type`, `-mtime`, and `-user` to find all files in or below your Desktop directory that are owned by you and were modified in the last 24 hours.\n",
    "\n",
    "Explain why the value for `-mtime` needs to be negative."
   ]
  },
  {
   "cell_type": "code",
   "execution_count": null,
   "metadata": {},
   "outputs": [],
   "source": []
  }
 ],
 "metadata": {
  "language_info": {
   "name": "python"
  }
 },
 "nbformat": 4,
 "nbformat_minor": 2
}
